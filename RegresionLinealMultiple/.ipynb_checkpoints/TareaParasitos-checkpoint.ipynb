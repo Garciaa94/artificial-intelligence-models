{
 "cells": [
  {
   "cell_type": "code",
   "execution_count": 54,
   "metadata": {},
   "outputs": [],
   "source": [
    "#Importamos librerías \n",
    "import pandas as pd\n",
    "from sklearn.linear_model import LinearRegression \n",
    "from sklearn.model_selection import train_test_split\n",
    "from sklearn.model_selection import cross_val_score\n",
    "from sklearn import datasets, linear_model"
   ]
  },
  {
   "cell_type": "code",
   "execution_count": 55,
   "metadata": {},
   "outputs": [
    {
     "name": "stdout",
     "output_type": "stream",
     "text": [
      "    Temperatura  Humedad  Recuento\n",
      "0            15       70       156\n",
      "1            16       65       157\n",
      "2            24       71       177\n",
      "3            13       64       145\n",
      "4            21       84       197\n",
      "5            16       86       184\n",
      "6            22       72       172\n",
      "7            18       84       187\n",
      "8            20       71       157\n",
      "9            16       75       169\n",
      "10           28       84       200\n",
      "11           27       79       193\n",
      "12           13       80       167\n",
      "13           22       86       170\n",
      "14           23       88       190\n"
     ]
    }
   ],
   "source": [
    "#Leemos dataframe\n",
    "df = pd.read_csv(\"parasito.csv\")\n",
    "print(df)"
   ]
  },
  {
   "cell_type": "code",
   "execution_count": 56,
   "metadata": {},
   "outputs": [
    {
     "data": {
      "text/html": [
       "<div>\n",
       "<style scoped>\n",
       "    .dataframe tbody tr th:only-of-type {\n",
       "        vertical-align: middle;\n",
       "    }\n",
       "\n",
       "    .dataframe tbody tr th {\n",
       "        vertical-align: top;\n",
       "    }\n",
       "\n",
       "    .dataframe thead th {\n",
       "        text-align: right;\n",
       "    }\n",
       "</style>\n",
       "<table border=\"1\" class=\"dataframe\">\n",
       "  <thead>\n",
       "    <tr style=\"text-align: right;\">\n",
       "      <th></th>\n",
       "      <th>Temperatura</th>\n",
       "      <th>Humedad</th>\n",
       "      <th>Recuento</th>\n",
       "    </tr>\n",
       "  </thead>\n",
       "  <tbody>\n",
       "    <tr>\n",
       "      <th>0</th>\n",
       "      <td>15</td>\n",
       "      <td>70</td>\n",
       "      <td>156</td>\n",
       "    </tr>\n",
       "    <tr>\n",
       "      <th>1</th>\n",
       "      <td>16</td>\n",
       "      <td>65</td>\n",
       "      <td>157</td>\n",
       "    </tr>\n",
       "    <tr>\n",
       "      <th>2</th>\n",
       "      <td>24</td>\n",
       "      <td>71</td>\n",
       "      <td>177</td>\n",
       "    </tr>\n",
       "    <tr>\n",
       "      <th>3</th>\n",
       "      <td>13</td>\n",
       "      <td>64</td>\n",
       "      <td>145</td>\n",
       "    </tr>\n",
       "    <tr>\n",
       "      <th>4</th>\n",
       "      <td>21</td>\n",
       "      <td>84</td>\n",
       "      <td>197</td>\n",
       "    </tr>\n",
       "    <tr>\n",
       "      <th>5</th>\n",
       "      <td>16</td>\n",
       "      <td>86</td>\n",
       "      <td>184</td>\n",
       "    </tr>\n",
       "  </tbody>\n",
       "</table>\n",
       "</div>"
      ],
      "text/plain": [
       "   Temperatura  Humedad  Recuento\n",
       "0           15       70       156\n",
       "1           16       65       157\n",
       "2           24       71       177\n",
       "3           13       64       145\n",
       "4           21       84       197\n",
       "5           16       86       184"
      ]
     },
     "execution_count": 56,
     "metadata": {},
     "output_type": "execute_result"
    }
   ],
   "source": [
    "\n",
    "df.head(6)"
   ]
  },
  {
   "cell_type": "code",
   "execution_count": 57,
   "metadata": {},
   "outputs": [],
   "source": [
    "#Seleccionamos las columna 1,2,3\n",
    "X_multiple= df.iloc[:, 0:3].values"
   ]
  },
  {
   "cell_type": "code",
   "execution_count": 58,
   "metadata": {},
   "outputs": [],
   "source": [
    "#Definimos nuestra variable de salida en donde encontraremos los ingresos que tiene\n",
    "y_multiple = df.iloc[:,0]\n",
    "\n",
    "#Como ya tenemos nuestros datos ahora procedemos \n",
    "#a separarlos en entrenamiento y prueba lo hacemos \n",
    "#utilizando la instrucción train_test_split"
   ]
  },
  {
   "cell_type": "code",
   "execution_count": 59,
   "metadata": {},
   "outputs": [],
   "source": [
    "from sklearn.model_selection import train_test_split\n",
    "X_train, X_test, y_train, y_test = train_test_split(X_multiple, y_multiple, test_size=0.1)\n",
    "#Seguidamente definimos el algoritmo a utilizar que es el de LinearRegression."
   ]
  },
  {
   "cell_type": "code",
   "execution_count": 60,
   "metadata": {},
   "outputs": [],
   "source": [
    "lr_multiple=linear_model.LinearRegression()\n",
    "#Definido el algoritmo ahora procedemos a entrenar nuestro modelo con los datos correspondiente, para ello utilizamos la instrucción fit."
   ]
  },
  {
   "cell_type": "code",
   "execution_count": 61,
   "metadata": {},
   "outputs": [
    {
     "data": {
      "text/plain": [
       "LinearRegression()"
      ]
     },
     "execution_count": 61,
     "metadata": {},
     "output_type": "execute_result"
    }
   ],
   "source": [
    "#Entrenamos el modelo\n",
    "lr_multiple.fit (X_train, y_train)\n",
    "#Y finalmente realizamos la predicción utilizando los datos de prueba."
   ]
  },
  {
   "cell_type": "code",
   "execution_count": 62,
   "metadata": {},
   "outputs": [
    {
     "name": "stdout",
     "output_type": "stream",
     "text": [
      "[24. 16.]\n"
     ]
    }
   ],
   "source": [
    "Y_pred_multiple=lr_multiple.predict(X_test)\n",
    "print(Y_pred_multiple)"
   ]
  },
  {
   "cell_type": "code",
   "execution_count": 63,
   "metadata": {},
   "outputs": [
    {
     "name": "stdout",
     "output_type": "stream",
     "text": [
      "Desempeño del modelo:  1.0\n"
     ]
    }
   ],
   "source": [
    "print (\"Desempeño del modelo: \", lr_multiple.score(X_test, y_test))"
   ]
  },
  {
   "cell_type": "code",
   "execution_count": 64,
   "metadata": {},
   "outputs": [
    {
     "name": "stdout",
     "output_type": "stream",
     "text": [
      "2    24\n",
      "5    16\n",
      "Name: Temperatura, dtype: int64\n"
     ]
    }
   ],
   "source": [
    "print(y_test)"
   ]
  },
  {
   "cell_type": "code",
   "execution_count": 65,
   "metadata": {},
   "outputs": [
    {
     "name": "stdout",
     "output_type": "stream",
     "text": [
      "valor de la pendiente\n",
      "[ 1.00000000e+00 -1.38935004e-17 -7.03827833e-17]\n"
     ]
    }
   ],
   "source": [
    "print(\"valor de la pendiente\")\n",
    "print(lr_multiple.coef_)"
   ]
  },
  {
   "cell_type": "code",
   "execution_count": 66,
   "metadata": {},
   "outputs": [
    {
     "name": "stdout",
     "output_type": "stream",
     "text": [
      "0.9999999999999998\n",
      "-1.389350039842919e-17\n",
      "-7.038278326839381e-17\n"
     ]
    }
   ],
   "source": [
    "print(lr_multiple.coef_[0])\n",
    "print(lr_multiple.coef_[1])\n",
    "print(lr_multiple.coef_[2])"
   ]
  },
  {
   "cell_type": "code",
   "execution_count": 67,
   "metadata": {},
   "outputs": [
    {
     "name": "stdout",
     "output_type": "stream",
     "text": [
      "valor de la interseccion\n",
      "1.4210854715202004e-14\n"
     ]
    }
   ],
   "source": [
    "print(\"valor de la interseccion\")\n",
    "print(lr_multiple.intercept_)"
   ]
  },
  {
   "cell_type": "code",
   "execution_count": 68,
   "metadata": {},
   "outputs": [
    {
     "name": "stdout",
     "output_type": "stream",
     "text": [
      "Ecuacion de la regresion lineal multiple: y=x1* 0.9999999999999998  +x2* -1.389350039842919e-17 +x3* -7.038278326839381e-17 + 1.4210854715202004e-14\n"
     ]
    }
   ],
   "source": [
    "print(\"Ecuacion de la regresion lineal multiple: y=x1*\",lr_multiple.coef_[0], \" +x2*\",lr_multiple.coef_[1],\"+x3*\",lr_multiple.coef_[2],\"+\",lr_multiple.intercept_)"
   ]
  },
  {
   "cell_type": "code",
   "execution_count": 69,
   "metadata": {},
   "outputs": [
    {
     "name": "stdout",
     "output_type": "stream",
     "text": [
      "presision del algoritmo\n",
      "1.0\n"
     ]
    }
   ],
   "source": [
    "print(\"presision del algoritmo\")\n",
    "print(lr_multiple.score(X_train,y_train))"
   ]
  },
  {
   "cell_type": "code",
   "execution_count": null,
   "metadata": {},
   "outputs": [],
   "source": []
  },
  {
   "cell_type": "code",
   "execution_count": null,
   "metadata": {},
   "outputs": [],
   "source": []
  }
 ],
 "metadata": {
  "kernelspec": {
   "display_name": "Python 3",
   "language": "python",
   "name": "python3"
  },
  "language_info": {
   "codemirror_mode": {
    "name": "ipython",
    "version": 3
   },
   "file_extension": ".py",
   "mimetype": "text/x-python",
   "name": "python",
   "nbconvert_exporter": "python",
   "pygments_lexer": "ipython3",
   "version": "3.7.6"
  }
 },
 "nbformat": 4,
 "nbformat_minor": 4
}
