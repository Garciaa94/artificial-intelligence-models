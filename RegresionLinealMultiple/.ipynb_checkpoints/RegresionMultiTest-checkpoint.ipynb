{
 "cells": [
  {
   "cell_type": "code",
   "execution_count": 1,
   "metadata": {},
   "outputs": [],
   "source": [
    "#Importamos librerías \n",
    "import pandas as pd\n",
    "from sklearn.linear_model import LinearRegression \n",
    "from sklearn.model_selection import train_test_split\n",
    "from sklearn.model_selection import cross_val_score\n",
    "from sklearn import datasets, linear_model"
   ]
  },
  {
   "cell_type": "code",
   "execution_count": 2,
   "metadata": {},
   "outputs": [
    {
     "name": "stdout",
     "output_type": "stream",
     "text": [
      "      Month Coarse wool Price Coarse wool price % Change Copra Price  \\\n",
      "0    Apr-90            482.34                          -         236   \n",
      "1    May-90            447.26                     -7.27%         234   \n",
      "2    Jun-90            440.99                     -1.40%         216   \n",
      "3    Jul-90            418.44                     -5.11%         205   \n",
      "4    Aug-90            418.44                      0.00%         198   \n",
      "..      ...               ...                        ...         ...   \n",
      "356  Dec-19               NaN                        NaN         NaN   \n",
      "357  Jan-20               NaN                        NaN         NaN   \n",
      "358  Feb-20               NaN                        NaN         NaN   \n",
      "359  Mar-20               NaN                        NaN         NaN   \n",
      "360  Apr-20               NaN                        NaN         NaN   \n",
      "\n",
      "    Copra price % Change  Cotton Price Cotton price % Change Fine wool Price  \\\n",
      "0                      -          1.83                     -        1,071.63   \n",
      "1                 -0.85%          1.89                 3.28%        1,057.18   \n",
      "2                 -7.69%          1.99                 5.29%          898.24   \n",
      "3                 -5.09%          2.01                 1.01%          895.83   \n",
      "4                 -3.41%          1.79               -10.95%          951.22   \n",
      "..                   ...           ...                   ...             ...   \n",
      "356                  NaN          1.67                 1.21%             NaN   \n",
      "357                  NaN          1.74                 4.19%             NaN   \n",
      "358                  NaN          1.69                -2.87%             NaN   \n",
      "359                  NaN          1.49               -11.83%             NaN   \n",
      "360                  NaN          1.40                -6.04%             NaN   \n",
      "\n",
      "    Fine wool price % Change  Hard log Price  ... Plywood Price  \\\n",
      "0                          -          161.20  ...        312.36   \n",
      "1                     -1.35%          172.86  ...        350.12   \n",
      "2                    -15.03%          181.67  ...        373.94   \n",
      "3                     -0.27%          187.96  ...        378.48   \n",
      "4                      6.18%          186.13  ...        364.60   \n",
      "..                       ...             ...  ...           ...   \n",
      "356                      NaN          272.80  ...        500.37   \n",
      "357                      NaN          272.40  ...        499.64   \n",
      "358                      NaN          270.56  ...        496.28   \n",
      "359                      NaN          276.93  ...        507.96   \n",
      "360                      NaN          276.24  ...        506.68   \n",
      "\n",
      "     Plywood price % Change Rubber Price  Rubber price % Change Softlog Price  \\\n",
      "0                         -         0.84                      -        120.66   \n",
      "1                    12.09%         0.85                  1.19%        124.28   \n",
      "2                     6.80%         0.85                  0.00%        129.45   \n",
      "3                     1.21%         0.86                  1.18%        124.23   \n",
      "4                    -3.67%         0.88                  2.33%        129.70   \n",
      "..                      ...          ...                    ...           ...   \n",
      "356                  -0.22%         1.66                  7.79%           NaN   \n",
      "357                  -0.15%         1.68                  1.20%           NaN   \n",
      "358                  -0.67%         1.61                 -4.17%           NaN   \n",
      "359                   2.35%         1.50                 -6.83%           NaN   \n",
      "360                  -0.25%         1.33                -11.33%           NaN   \n",
      "\n",
      "     Softlog price % Change Soft sawnwood Price  Soft sawnwood price % Change  \\\n",
      "0                         -              218.76                             -   \n",
      "1                     3.00%              213.00                        -2.63%   \n",
      "2                     4.16%              200.00                        -6.10%   \n",
      "3                    -4.03%              210.05                         5.03%   \n",
      "4                     4.40%              208.30                        -0.83%   \n",
      "..                      ...                 ...                           ...   \n",
      "356                     NaN                 NaN                           NaN   \n",
      "357                     NaN                 NaN                           NaN   \n",
      "358                     NaN                 NaN                           NaN   \n",
      "359                     NaN                 NaN                           NaN   \n",
      "360                     NaN                 NaN                           NaN   \n",
      "\n",
      "    Wood pulp Price  Wood pulp price % Change  \n",
      "0            829.29                         -  \n",
      "1            842.51                     1.59%  \n",
      "2            831.35                    -1.32%  \n",
      "3            798.83                    -3.91%  \n",
      "4            818.74                     2.49%  \n",
      "..              ...                       ...  \n",
      "356          875.00                     0.00%  \n",
      "357          875.00                     0.00%  \n",
      "358          875.00                     0.00%  \n",
      "359          875.00                     0.00%  \n",
      "360             NaN                       NaN  \n",
      "\n",
      "[361 rows x 25 columns]\n"
     ]
    }
   ],
   "source": [
    "df= pd.read_csv(\"agricultural_raw_material.csv\")\n",
    "print(df)\n"
   ]
  },
  {
   "cell_type": "code",
   "execution_count": 3,
   "metadata": {},
   "outputs": [
    {
     "name": "stdout",
     "output_type": "stream",
     "text": [
      "Index(['Month', 'Coarse wool Price', 'Coarse wool price % Change',\n",
      "       'Copra Price', 'Copra price % Change', 'Cotton Price',\n",
      "       'Cotton price % Change', 'Fine wool Price', 'Fine wool price % Change',\n",
      "       'Hard log Price', 'Hard log price % Change', 'Hard sawnwood Price',\n",
      "       'Hard sawnwood price % Change', 'Hide Price', 'Hide price % change',\n",
      "       'Plywood Price', 'Plywood price % Change', 'Rubber Price',\n",
      "       'Rubber price % Change', 'Softlog Price', 'Softlog price % Change',\n",
      "       'Soft sawnwood Price', 'Soft sawnwood price % Change',\n",
      "       'Wood pulp Price', 'Wood pulp price % Change'],\n",
      "      dtype='object')\n"
     ]
    }
   ],
   "source": [
    "print(df.keys())"
   ]
  },
  {
   "cell_type": "code",
   "execution_count": 141,
   "metadata": {},
   "outputs": [
    {
     "data": {
      "text/html": [
       "<div>\n",
       "<style scoped>\n",
       "    .dataframe tbody tr th:only-of-type {\n",
       "        vertical-align: middle;\n",
       "    }\n",
       "\n",
       "    .dataframe tbody tr th {\n",
       "        vertical-align: top;\n",
       "    }\n",
       "\n",
       "    .dataframe thead th {\n",
       "        text-align: right;\n",
       "    }\n",
       "</style>\n",
       "<table border=\"1\" class=\"dataframe\">\n",
       "  <thead>\n",
       "    <tr style=\"text-align: right;\">\n",
       "      <th></th>\n",
       "      <th>Temperatura</th>\n",
       "      <th>Humedad</th>\n",
       "      <th>Recuento</th>\n",
       "    </tr>\n",
       "  </thead>\n",
       "  <tbody>\n",
       "    <tr>\n",
       "      <th>0</th>\n",
       "      <td>15</td>\n",
       "      <td>70</td>\n",
       "      <td>156</td>\n",
       "    </tr>\n",
       "    <tr>\n",
       "      <th>1</th>\n",
       "      <td>16</td>\n",
       "      <td>65</td>\n",
       "      <td>157</td>\n",
       "    </tr>\n",
       "    <tr>\n",
       "      <th>2</th>\n",
       "      <td>24</td>\n",
       "      <td>71</td>\n",
       "      <td>177</td>\n",
       "    </tr>\n",
       "    <tr>\n",
       "      <th>3</th>\n",
       "      <td>13</td>\n",
       "      <td>64</td>\n",
       "      <td>145</td>\n",
       "    </tr>\n",
       "    <tr>\n",
       "      <th>4</th>\n",
       "      <td>21</td>\n",
       "      <td>84</td>\n",
       "      <td>197</td>\n",
       "    </tr>\n",
       "    <tr>\n",
       "      <th>5</th>\n",
       "      <td>16</td>\n",
       "      <td>86</td>\n",
       "      <td>184</td>\n",
       "    </tr>\n",
       "  </tbody>\n",
       "</table>\n",
       "</div>"
      ],
      "text/plain": [
       "   Temperatura  Humedad  Recuento\n",
       "0           15       70       156\n",
       "1           16       65       157\n",
       "2           24       71       177\n",
       "3           13       64       145\n",
       "4           21       84       197\n",
       "5           16       86       184"
      ]
     },
     "execution_count": 141,
     "metadata": {},
     "output_type": "execute_result"
    }
   ],
   "source": [
    "df.head(6)"
   ]
  },
  {
   "cell_type": "code",
   "execution_count": 142,
   "metadata": {},
   "outputs": [
    {
     "name": "stdout",
     "output_type": "stream",
     "text": [
      "0     15\n",
      "1     16\n",
      "2     24\n",
      "3     13\n",
      "4     21\n",
      "5     16\n",
      "6     22\n",
      "7     18\n",
      "8     20\n",
      "9     16\n",
      "10    28\n",
      "11    27\n",
      "12    13\n",
      "13    22\n",
      "14    23\n",
      "Name: Temperatura, dtype: int64\n"
     ]
    }
   ],
   "source": [
    "print(df.Temperatura)"
   ]
  },
  {
   "cell_type": "code",
   "execution_count": 143,
   "metadata": {},
   "outputs": [
    {
     "name": "stdout",
     "output_type": "stream",
     "text": [
      "0     156\n",
      "1     157\n",
      "2     177\n",
      "3     145\n",
      "4     197\n",
      "5     184\n",
      "6     172\n",
      "7     187\n",
      "8     157\n",
      "9     169\n",
      "10    200\n",
      "11    193\n",
      "12    167\n",
      "13    170\n",
      "14    190\n",
      "Name: Recuento, dtype: int64\n"
     ]
    }
   ],
   "source": [
    "print(df.Recuento)"
   ]
  },
  {
   "cell_type": "code",
   "execution_count": 144,
   "metadata": {},
   "outputs": [],
   "source": [
    "#seleccionamos la columna 5,6 7 del dataset\n",
    "X_multiple=df.iloc[:,:3]"
   ]
  },
  {
   "cell_type": "code",
   "execution_count": 145,
   "metadata": {},
   "outputs": [],
   "source": [
    "y_multiple=df.Humedad"
   ]
  },
  {
   "cell_type": "code",
   "execution_count": 146,
   "metadata": {},
   "outputs": [],
   "source": [
    "from sklearn.model_selection import train_test_split"
   ]
  },
  {
   "cell_type": "code",
   "execution_count": 147,
   "metadata": {},
   "outputs": [],
   "source": [
    "X_train, X_test, y_train, y_test=train_test_split(X_multiple, y_multiple)"
   ]
  },
  {
   "cell_type": "code",
   "execution_count": 148,
   "metadata": {},
   "outputs": [],
   "source": [
    "lr_multiple=linear_model.LinearRegression()"
   ]
  },
  {
   "cell_type": "code",
   "execution_count": 149,
   "metadata": {},
   "outputs": [
    {
     "data": {
      "text/plain": [
       "LinearRegression()"
      ]
     },
     "execution_count": 149,
     "metadata": {},
     "output_type": "execute_result"
    }
   ],
   "source": [
    "lr_multiple.fit (X_train, y_train)"
   ]
  },
  {
   "cell_type": "code",
   "execution_count": 150,
   "metadata": {},
   "outputs": [
    {
     "name": "stdout",
     "output_type": "stream",
     "text": [
      "[86. 84. 84. 84.]\n"
     ]
    }
   ],
   "source": [
    "Y_pred_multiple=lr_multiple.predict(X_test)\n",
    "print(Y_pred_multiple)"
   ]
  },
  {
   "cell_type": "code",
   "execution_count": 151,
   "metadata": {},
   "outputs": [
    {
     "name": "stdout",
     "output_type": "stream",
     "text": [
      "13    86\n",
      "4     84\n",
      "7     84\n",
      "10    84\n",
      "Name: Humedad, dtype: int64\n"
     ]
    }
   ],
   "source": [
    "print(y_test)"
   ]
  },
  {
   "cell_type": "code",
   "execution_count": 152,
   "metadata": {},
   "outputs": [
    {
     "name": "stdout",
     "output_type": "stream",
     "text": [
      "valor de la pendiente\n",
      "[ 1.28256328e-16  1.00000000e+00 -2.22044605e-16]\n"
     ]
    }
   ],
   "source": [
    "print(\"valor de la pendiente\")\n",
    "print(lr_multiple.coef_)"
   ]
  },
  {
   "cell_type": "code",
   "execution_count": 153,
   "metadata": {},
   "outputs": [
    {
     "name": "stdout",
     "output_type": "stream",
     "text": [
      "1.2825632817867723e-16\n",
      "0.999999999999999\n",
      "-2.220446049250313e-16\n"
     ]
    }
   ],
   "source": [
    "print(lr_multiple.coef_[0])\n",
    "print(lr_multiple.coef_[1])\n",
    "print(lr_multiple.coef_[2])"
   ]
  },
  {
   "cell_type": "code",
   "execution_count": 154,
   "metadata": {},
   "outputs": [
    {
     "name": "stdout",
     "output_type": "stream",
     "text": [
      "valor de la interseccion\n",
      "9.947598300641403e-14\n"
     ]
    }
   ],
   "source": [
    "print(\"valor de la interseccion\")\n",
    "print(lr_multiple.intercept_)"
   ]
  },
  {
   "cell_type": "code",
   "execution_count": 155,
   "metadata": {},
   "outputs": [
    {
     "name": "stdout",
     "output_type": "stream",
     "text": [
      "Ecuacion de la regresion lineal multiple: y=x1* 1.2825632817867723e-16  +x2* 0.999999999999999 +x3* -2.220446049250313e-16 + 9.947598300641403e-14\n"
     ]
    }
   ],
   "source": [
    "print(\"Ecuacion de la regresion lineal multiple: y=x1*\",lr_multiple.coef_[0], \" +x2*\",lr_multiple.coef_[1],\"+x3*\",lr_multiple.coef_[2],\"+\",lr_multiple.intercept_)"
   ]
  },
  {
   "cell_type": "code",
   "execution_count": 156,
   "metadata": {},
   "outputs": [
    {
     "name": "stdout",
     "output_type": "stream",
     "text": [
      "presision del algoritmo\n",
      "1.0\n"
     ]
    }
   ],
   "source": [
    "print(\"presision del algoritmo\")\n",
    "print(lr_multiple.score(X_train,y_train))"
   ]
  },
  {
   "cell_type": "code",
   "execution_count": null,
   "metadata": {},
   "outputs": [],
   "source": []
  }
 ],
 "metadata": {
  "kernelspec": {
   "display_name": "Python 3",
   "language": "python",
   "name": "python3"
  },
  "language_info": {
   "codemirror_mode": {
    "name": "ipython",
    "version": 3
   },
   "file_extension": ".py",
   "mimetype": "text/x-python",
   "name": "python",
   "nbconvert_exporter": "python",
   "pygments_lexer": "ipython3",
   "version": "3.7.6"
  }
 },
 "nbformat": 4,
 "nbformat_minor": 4
}
