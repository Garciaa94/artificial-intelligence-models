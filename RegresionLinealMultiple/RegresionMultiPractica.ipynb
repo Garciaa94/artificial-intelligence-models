{
 "cells": [
  {
   "cell_type": "code",
   "execution_count": 2,
   "metadata": {},
   "outputs": [],
   "source": [
    "#Importamos librerías \n",
    "import pandas as pd\n",
    "from sklearn.linear_model import LinearRegression \n",
    "from sklearn.model_selection import train_test_split\n",
    "from sklearn.model_selection import cross_val_score\n",
    "from sklearn import datasets, linear_model"
   ]
  },
  {
   "cell_type": "code",
   "execution_count": 3,
   "metadata": {},
   "outputs": [
    {
     "ename": "ParserError",
     "evalue": "Error tokenizing data. C error: Expected 1 fields in line 33, saw 3\n",
     "output_type": "error",
     "traceback": [
      "\u001b[1;31m---------------------------------------------------------------------------\u001b[0m",
      "\u001b[1;31mParserError\u001b[0m                               Traceback (most recent call last)",
      "\u001b[1;32m<ipython-input-3-76fe78124eb7>\u001b[0m in \u001b[0;36m<module>\u001b[1;34m\u001b[0m\n\u001b[1;32m----> 1\u001b[1;33m \u001b[0mdf\u001b[0m\u001b[1;33m=\u001b[0m \u001b[0mpd\u001b[0m\u001b[1;33m.\u001b[0m\u001b[0mread_csv\u001b[0m\u001b[1;33m(\u001b[0m\u001b[1;34m\"https://gist.github.com/chaityacshah/899a95deaf8b1930003ae93944fd17d7\"\u001b[0m\u001b[1;33m)\u001b[0m\u001b[1;33m\u001b[0m\u001b[1;33m\u001b[0m\u001b[0m\n\u001b[0m\u001b[0;32m      2\u001b[0m \u001b[0mprint\u001b[0m\u001b[1;33m(\u001b[0m\u001b[0mdf\u001b[0m\u001b[1;33m)\u001b[0m\u001b[1;33m\u001b[0m\u001b[1;33m\u001b[0m\u001b[0m\n",
      "\u001b[1;32m~\\anaconda3\\lib\\site-packages\\pandas\\io\\parsers.py\u001b[0m in \u001b[0;36mparser_f\u001b[1;34m(filepath_or_buffer, sep, delimiter, header, names, index_col, usecols, squeeze, prefix, mangle_dupe_cols, dtype, engine, converters, true_values, false_values, skipinitialspace, skiprows, skipfooter, nrows, na_values, keep_default_na, na_filter, verbose, skip_blank_lines, parse_dates, infer_datetime_format, keep_date_col, date_parser, dayfirst, cache_dates, iterator, chunksize, compression, thousands, decimal, lineterminator, quotechar, quoting, doublequote, escapechar, comment, encoding, dialect, error_bad_lines, warn_bad_lines, delim_whitespace, low_memory, memory_map, float_precision)\u001b[0m\n\u001b[0;32m    674\u001b[0m         )\n\u001b[0;32m    675\u001b[0m \u001b[1;33m\u001b[0m\u001b[0m\n\u001b[1;32m--> 676\u001b[1;33m         \u001b[1;32mreturn\u001b[0m \u001b[0m_read\u001b[0m\u001b[1;33m(\u001b[0m\u001b[0mfilepath_or_buffer\u001b[0m\u001b[1;33m,\u001b[0m \u001b[0mkwds\u001b[0m\u001b[1;33m)\u001b[0m\u001b[1;33m\u001b[0m\u001b[1;33m\u001b[0m\u001b[0m\n\u001b[0m\u001b[0;32m    677\u001b[0m \u001b[1;33m\u001b[0m\u001b[0m\n\u001b[0;32m    678\u001b[0m     \u001b[0mparser_f\u001b[0m\u001b[1;33m.\u001b[0m\u001b[0m__name__\u001b[0m \u001b[1;33m=\u001b[0m \u001b[0mname\u001b[0m\u001b[1;33m\u001b[0m\u001b[1;33m\u001b[0m\u001b[0m\n",
      "\u001b[1;32m~\\anaconda3\\lib\\site-packages\\pandas\\io\\parsers.py\u001b[0m in \u001b[0;36m_read\u001b[1;34m(filepath_or_buffer, kwds)\u001b[0m\n\u001b[0;32m    452\u001b[0m \u001b[1;33m\u001b[0m\u001b[0m\n\u001b[0;32m    453\u001b[0m     \u001b[1;32mtry\u001b[0m\u001b[1;33m:\u001b[0m\u001b[1;33m\u001b[0m\u001b[1;33m\u001b[0m\u001b[0m\n\u001b[1;32m--> 454\u001b[1;33m         \u001b[0mdata\u001b[0m \u001b[1;33m=\u001b[0m \u001b[0mparser\u001b[0m\u001b[1;33m.\u001b[0m\u001b[0mread\u001b[0m\u001b[1;33m(\u001b[0m\u001b[0mnrows\u001b[0m\u001b[1;33m)\u001b[0m\u001b[1;33m\u001b[0m\u001b[1;33m\u001b[0m\u001b[0m\n\u001b[0m\u001b[0;32m    455\u001b[0m     \u001b[1;32mfinally\u001b[0m\u001b[1;33m:\u001b[0m\u001b[1;33m\u001b[0m\u001b[1;33m\u001b[0m\u001b[0m\n\u001b[0;32m    456\u001b[0m         \u001b[0mparser\u001b[0m\u001b[1;33m.\u001b[0m\u001b[0mclose\u001b[0m\u001b[1;33m(\u001b[0m\u001b[1;33m)\u001b[0m\u001b[1;33m\u001b[0m\u001b[1;33m\u001b[0m\u001b[0m\n",
      "\u001b[1;32m~\\anaconda3\\lib\\site-packages\\pandas\\io\\parsers.py\u001b[0m in \u001b[0;36mread\u001b[1;34m(self, nrows)\u001b[0m\n\u001b[0;32m   1131\u001b[0m     \u001b[1;32mdef\u001b[0m \u001b[0mread\u001b[0m\u001b[1;33m(\u001b[0m\u001b[0mself\u001b[0m\u001b[1;33m,\u001b[0m \u001b[0mnrows\u001b[0m\u001b[1;33m=\u001b[0m\u001b[1;32mNone\u001b[0m\u001b[1;33m)\u001b[0m\u001b[1;33m:\u001b[0m\u001b[1;33m\u001b[0m\u001b[1;33m\u001b[0m\u001b[0m\n\u001b[0;32m   1132\u001b[0m         \u001b[0mnrows\u001b[0m \u001b[1;33m=\u001b[0m \u001b[0m_validate_integer\u001b[0m\u001b[1;33m(\u001b[0m\u001b[1;34m\"nrows\"\u001b[0m\u001b[1;33m,\u001b[0m \u001b[0mnrows\u001b[0m\u001b[1;33m)\u001b[0m\u001b[1;33m\u001b[0m\u001b[1;33m\u001b[0m\u001b[0m\n\u001b[1;32m-> 1133\u001b[1;33m         \u001b[0mret\u001b[0m \u001b[1;33m=\u001b[0m \u001b[0mself\u001b[0m\u001b[1;33m.\u001b[0m\u001b[0m_engine\u001b[0m\u001b[1;33m.\u001b[0m\u001b[0mread\u001b[0m\u001b[1;33m(\u001b[0m\u001b[0mnrows\u001b[0m\u001b[1;33m)\u001b[0m\u001b[1;33m\u001b[0m\u001b[1;33m\u001b[0m\u001b[0m\n\u001b[0m\u001b[0;32m   1134\u001b[0m \u001b[1;33m\u001b[0m\u001b[0m\n\u001b[0;32m   1135\u001b[0m         \u001b[1;31m# May alter columns / col_dict\u001b[0m\u001b[1;33m\u001b[0m\u001b[1;33m\u001b[0m\u001b[1;33m\u001b[0m\u001b[0m\n",
      "\u001b[1;32m~\\anaconda3\\lib\\site-packages\\pandas\\io\\parsers.py\u001b[0m in \u001b[0;36mread\u001b[1;34m(self, nrows)\u001b[0m\n\u001b[0;32m   2035\u001b[0m     \u001b[1;32mdef\u001b[0m \u001b[0mread\u001b[0m\u001b[1;33m(\u001b[0m\u001b[0mself\u001b[0m\u001b[1;33m,\u001b[0m \u001b[0mnrows\u001b[0m\u001b[1;33m=\u001b[0m\u001b[1;32mNone\u001b[0m\u001b[1;33m)\u001b[0m\u001b[1;33m:\u001b[0m\u001b[1;33m\u001b[0m\u001b[1;33m\u001b[0m\u001b[0m\n\u001b[0;32m   2036\u001b[0m         \u001b[1;32mtry\u001b[0m\u001b[1;33m:\u001b[0m\u001b[1;33m\u001b[0m\u001b[1;33m\u001b[0m\u001b[0m\n\u001b[1;32m-> 2037\u001b[1;33m             \u001b[0mdata\u001b[0m \u001b[1;33m=\u001b[0m \u001b[0mself\u001b[0m\u001b[1;33m.\u001b[0m\u001b[0m_reader\u001b[0m\u001b[1;33m.\u001b[0m\u001b[0mread\u001b[0m\u001b[1;33m(\u001b[0m\u001b[0mnrows\u001b[0m\u001b[1;33m)\u001b[0m\u001b[1;33m\u001b[0m\u001b[1;33m\u001b[0m\u001b[0m\n\u001b[0m\u001b[0;32m   2038\u001b[0m         \u001b[1;32mexcept\u001b[0m \u001b[0mStopIteration\u001b[0m\u001b[1;33m:\u001b[0m\u001b[1;33m\u001b[0m\u001b[1;33m\u001b[0m\u001b[0m\n\u001b[0;32m   2039\u001b[0m             \u001b[1;32mif\u001b[0m \u001b[0mself\u001b[0m\u001b[1;33m.\u001b[0m\u001b[0m_first_chunk\u001b[0m\u001b[1;33m:\u001b[0m\u001b[1;33m\u001b[0m\u001b[1;33m\u001b[0m\u001b[0m\n",
      "\u001b[1;32mpandas\\_libs\\parsers.pyx\u001b[0m in \u001b[0;36mpandas._libs.parsers.TextReader.read\u001b[1;34m()\u001b[0m\n",
      "\u001b[1;32mpandas\\_libs\\parsers.pyx\u001b[0m in \u001b[0;36mpandas._libs.parsers.TextReader._read_low_memory\u001b[1;34m()\u001b[0m\n",
      "\u001b[1;32mpandas\\_libs\\parsers.pyx\u001b[0m in \u001b[0;36mpandas._libs.parsers.TextReader._read_rows\u001b[1;34m()\u001b[0m\n",
      "\u001b[1;32mpandas\\_libs\\parsers.pyx\u001b[0m in \u001b[0;36mpandas._libs.parsers.TextReader._tokenize_rows\u001b[1;34m()\u001b[0m\n",
      "\u001b[1;32mpandas\\_libs\\parsers.pyx\u001b[0m in \u001b[0;36mpandas._libs.parsers.raise_parser_error\u001b[1;34m()\u001b[0m\n",
      "\u001b[1;31mParserError\u001b[0m: Error tokenizing data. C error: Expected 1 fields in line 33, saw 3\n"
     ]
    }
   ],
   "source": [
    "df= pd.read_csv(\"https://gist.github.com/chaityacshah/899a95deaf8b1930003ae93944fd17d7\")\n",
    "print(df)\n"
   ]
  },
  {
   "cell_type": "code",
   "execution_count": 3,
   "metadata": {},
   "outputs": [
    {
     "name": "stdout",
     "output_type": "stream",
     "text": [
      "Index(['Month', 'Coarse wool Price', 'Coarse wool price % Change',\n",
      "       'Copra Price', 'Copra price % Change', 'Cotton Price',\n",
      "       'Cotton price % Change', 'Fine wool Price', 'Fine wool price % Change',\n",
      "       'Hard log Price', 'Hard log price % Change', 'Hard sawnwood Price',\n",
      "       'Hard sawnwood price % Change', 'Hide Price', 'Hide price % change',\n",
      "       'Plywood Price', 'Plywood price % Change', 'Rubber Price',\n",
      "       'Rubber price % Change', 'Softlog Price', 'Softlog price % Change',\n",
      "       'Soft sawnwood Price', 'Soft sawnwood price % Change',\n",
      "       'Wood pulp Price', 'Wood pulp price % Change'],\n",
      "      dtype='object')\n"
     ]
    }
   ],
   "source": [
    "print(df.keys())"
   ]
  },
  {
   "cell_type": "code",
   "execution_count": 4,
   "metadata": {},
   "outputs": [
    {
     "data": {
      "text/html": [
       "<div>\n",
       "<style scoped>\n",
       "    .dataframe tbody tr th:only-of-type {\n",
       "        vertical-align: middle;\n",
       "    }\n",
       "\n",
       "    .dataframe tbody tr th {\n",
       "        vertical-align: top;\n",
       "    }\n",
       "\n",
       "    .dataframe thead th {\n",
       "        text-align: right;\n",
       "    }\n",
       "</style>\n",
       "<table border=\"1\" class=\"dataframe\">\n",
       "  <thead>\n",
       "    <tr style=\"text-align: right;\">\n",
       "      <th></th>\n",
       "      <th>Month</th>\n",
       "      <th>Coarse wool Price</th>\n",
       "      <th>Coarse wool price % Change</th>\n",
       "      <th>Copra Price</th>\n",
       "      <th>Copra price % Change</th>\n",
       "      <th>Cotton Price</th>\n",
       "      <th>Cotton price % Change</th>\n",
       "      <th>Fine wool Price</th>\n",
       "      <th>Fine wool price % Change</th>\n",
       "      <th>Hard log Price</th>\n",
       "      <th>...</th>\n",
       "      <th>Plywood Price</th>\n",
       "      <th>Plywood price % Change</th>\n",
       "      <th>Rubber Price</th>\n",
       "      <th>Rubber price % Change</th>\n",
       "      <th>Softlog Price</th>\n",
       "      <th>Softlog price % Change</th>\n",
       "      <th>Soft sawnwood Price</th>\n",
       "      <th>Soft sawnwood price % Change</th>\n",
       "      <th>Wood pulp Price</th>\n",
       "      <th>Wood pulp price % Change</th>\n",
       "    </tr>\n",
       "  </thead>\n",
       "  <tbody>\n",
       "    <tr>\n",
       "      <th>0</th>\n",
       "      <td>Apr-90</td>\n",
       "      <td>482.34</td>\n",
       "      <td>-</td>\n",
       "      <td>236</td>\n",
       "      <td>-</td>\n",
       "      <td>1.83</td>\n",
       "      <td>-</td>\n",
       "      <td>1,071.63</td>\n",
       "      <td>-</td>\n",
       "      <td>161.20</td>\n",
       "      <td>...</td>\n",
       "      <td>312.36</td>\n",
       "      <td>-</td>\n",
       "      <td>0.84</td>\n",
       "      <td>-</td>\n",
       "      <td>120.66</td>\n",
       "      <td>-</td>\n",
       "      <td>218.76</td>\n",
       "      <td>-</td>\n",
       "      <td>829.29</td>\n",
       "      <td>-</td>\n",
       "    </tr>\n",
       "    <tr>\n",
       "      <th>1</th>\n",
       "      <td>May-90</td>\n",
       "      <td>447.26</td>\n",
       "      <td>-7.27%</td>\n",
       "      <td>234</td>\n",
       "      <td>-0.85%</td>\n",
       "      <td>1.89</td>\n",
       "      <td>3.28%</td>\n",
       "      <td>1,057.18</td>\n",
       "      <td>-1.35%</td>\n",
       "      <td>172.86</td>\n",
       "      <td>...</td>\n",
       "      <td>350.12</td>\n",
       "      <td>12.09%</td>\n",
       "      <td>0.85</td>\n",
       "      <td>1.19%</td>\n",
       "      <td>124.28</td>\n",
       "      <td>3.00%</td>\n",
       "      <td>213.00</td>\n",
       "      <td>-2.63%</td>\n",
       "      <td>842.51</td>\n",
       "      <td>1.59%</td>\n",
       "    </tr>\n",
       "    <tr>\n",
       "      <th>2</th>\n",
       "      <td>Jun-90</td>\n",
       "      <td>440.99</td>\n",
       "      <td>-1.40%</td>\n",
       "      <td>216</td>\n",
       "      <td>-7.69%</td>\n",
       "      <td>1.99</td>\n",
       "      <td>5.29%</td>\n",
       "      <td>898.24</td>\n",
       "      <td>-15.03%</td>\n",
       "      <td>181.67</td>\n",
       "      <td>...</td>\n",
       "      <td>373.94</td>\n",
       "      <td>6.80%</td>\n",
       "      <td>0.85</td>\n",
       "      <td>0.00%</td>\n",
       "      <td>129.45</td>\n",
       "      <td>4.16%</td>\n",
       "      <td>200.00</td>\n",
       "      <td>-6.10%</td>\n",
       "      <td>831.35</td>\n",
       "      <td>-1.32%</td>\n",
       "    </tr>\n",
       "    <tr>\n",
       "      <th>3</th>\n",
       "      <td>Jul-90</td>\n",
       "      <td>418.44</td>\n",
       "      <td>-5.11%</td>\n",
       "      <td>205</td>\n",
       "      <td>-5.09%</td>\n",
       "      <td>2.01</td>\n",
       "      <td>1.01%</td>\n",
       "      <td>895.83</td>\n",
       "      <td>-0.27%</td>\n",
       "      <td>187.96</td>\n",
       "      <td>...</td>\n",
       "      <td>378.48</td>\n",
       "      <td>1.21%</td>\n",
       "      <td>0.86</td>\n",
       "      <td>1.18%</td>\n",
       "      <td>124.23</td>\n",
       "      <td>-4.03%</td>\n",
       "      <td>210.05</td>\n",
       "      <td>5.03%</td>\n",
       "      <td>798.83</td>\n",
       "      <td>-3.91%</td>\n",
       "    </tr>\n",
       "    <tr>\n",
       "      <th>4</th>\n",
       "      <td>Aug-90</td>\n",
       "      <td>418.44</td>\n",
       "      <td>0.00%</td>\n",
       "      <td>198</td>\n",
       "      <td>-3.41%</td>\n",
       "      <td>1.79</td>\n",
       "      <td>-10.95%</td>\n",
       "      <td>951.22</td>\n",
       "      <td>6.18%</td>\n",
       "      <td>186.13</td>\n",
       "      <td>...</td>\n",
       "      <td>364.60</td>\n",
       "      <td>-3.67%</td>\n",
       "      <td>0.88</td>\n",
       "      <td>2.33%</td>\n",
       "      <td>129.70</td>\n",
       "      <td>4.40%</td>\n",
       "      <td>208.30</td>\n",
       "      <td>-0.83%</td>\n",
       "      <td>818.74</td>\n",
       "      <td>2.49%</td>\n",
       "    </tr>\n",
       "    <tr>\n",
       "      <th>5</th>\n",
       "      <td>Sep-90</td>\n",
       "      <td>412.18</td>\n",
       "      <td>-1.50%</td>\n",
       "      <td>196</td>\n",
       "      <td>-1.01%</td>\n",
       "      <td>1.79</td>\n",
       "      <td>0.00%</td>\n",
       "      <td>936.77</td>\n",
       "      <td>-1.52%</td>\n",
       "      <td>185.33</td>\n",
       "      <td>...</td>\n",
       "      <td>384.92</td>\n",
       "      <td>5.57%</td>\n",
       "      <td>0.90</td>\n",
       "      <td>2.27%</td>\n",
       "      <td>129.78</td>\n",
       "      <td>0.06%</td>\n",
       "      <td>199.59</td>\n",
       "      <td>-4.18%</td>\n",
       "      <td>811.62</td>\n",
       "      <td>-0.87%</td>\n",
       "    </tr>\n",
       "  </tbody>\n",
       "</table>\n",
       "<p>6 rows × 25 columns</p>\n",
       "</div>"
      ],
      "text/plain": [
       "    Month Coarse wool Price Coarse wool price % Change Copra Price  \\\n",
       "0  Apr-90            482.34                          -         236   \n",
       "1  May-90            447.26                     -7.27%         234   \n",
       "2  Jun-90            440.99                     -1.40%         216   \n",
       "3  Jul-90            418.44                     -5.11%         205   \n",
       "4  Aug-90            418.44                      0.00%         198   \n",
       "5  Sep-90            412.18                     -1.50%         196   \n",
       "\n",
       "  Copra price % Change  Cotton Price Cotton price % Change Fine wool Price  \\\n",
       "0                    -          1.83                     -        1,071.63   \n",
       "1               -0.85%          1.89                 3.28%        1,057.18   \n",
       "2               -7.69%          1.99                 5.29%          898.24   \n",
       "3               -5.09%          2.01                 1.01%          895.83   \n",
       "4               -3.41%          1.79               -10.95%          951.22   \n",
       "5               -1.01%          1.79                 0.00%          936.77   \n",
       "\n",
       "  Fine wool price % Change  Hard log Price  ... Plywood Price  \\\n",
       "0                        -          161.20  ...        312.36   \n",
       "1                   -1.35%          172.86  ...        350.12   \n",
       "2                  -15.03%          181.67  ...        373.94   \n",
       "3                   -0.27%          187.96  ...        378.48   \n",
       "4                    6.18%          186.13  ...        364.60   \n",
       "5                   -1.52%          185.33  ...        384.92   \n",
       "\n",
       "   Plywood price % Change Rubber Price  Rubber price % Change Softlog Price  \\\n",
       "0                       -         0.84                      -        120.66   \n",
       "1                  12.09%         0.85                  1.19%        124.28   \n",
       "2                   6.80%         0.85                  0.00%        129.45   \n",
       "3                   1.21%         0.86                  1.18%        124.23   \n",
       "4                  -3.67%         0.88                  2.33%        129.70   \n",
       "5                   5.57%         0.90                  2.27%        129.78   \n",
       "\n",
       "   Softlog price % Change Soft sawnwood Price  Soft sawnwood price % Change  \\\n",
       "0                       -              218.76                             -   \n",
       "1                   3.00%              213.00                        -2.63%   \n",
       "2                   4.16%              200.00                        -6.10%   \n",
       "3                  -4.03%              210.05                         5.03%   \n",
       "4                   4.40%              208.30                        -0.83%   \n",
       "5                   0.06%              199.59                        -4.18%   \n",
       "\n",
       "  Wood pulp Price  Wood pulp price % Change  \n",
       "0          829.29                         -  \n",
       "1          842.51                     1.59%  \n",
       "2          831.35                    -1.32%  \n",
       "3          798.83                    -3.91%  \n",
       "4          818.74                     2.49%  \n",
       "5          811.62                    -0.87%  \n",
       "\n",
       "[6 rows x 25 columns]"
      ]
     },
     "execution_count": 4,
     "metadata": {},
     "output_type": "execute_result"
    }
   ],
   "source": [
    "df.head(6)"
   ]
  },
  {
   "cell_type": "code",
   "execution_count": 142,
   "metadata": {},
   "outputs": [
    {
     "name": "stdout",
     "output_type": "stream",
     "text": [
      "0     15\n",
      "1     16\n",
      "2     24\n",
      "3     13\n",
      "4     21\n",
      "5     16\n",
      "6     22\n",
      "7     18\n",
      "8     20\n",
      "9     16\n",
      "10    28\n",
      "11    27\n",
      "12    13\n",
      "13    22\n",
      "14    23\n",
      "Name: Temperatura, dtype: int64\n"
     ]
    }
   ],
   "source": [
    "print(df.Temperatura)"
   ]
  },
  {
   "cell_type": "code",
   "execution_count": 143,
   "metadata": {},
   "outputs": [
    {
     "name": "stdout",
     "output_type": "stream",
     "text": [
      "0     156\n",
      "1     157\n",
      "2     177\n",
      "3     145\n",
      "4     197\n",
      "5     184\n",
      "6     172\n",
      "7     187\n",
      "8     157\n",
      "9     169\n",
      "10    200\n",
      "11    193\n",
      "12    167\n",
      "13    170\n",
      "14    190\n",
      "Name: Recuento, dtype: int64\n"
     ]
    }
   ],
   "source": [
    "print(df.Recuento)"
   ]
  },
  {
   "cell_type": "code",
   "execution_count": 144,
   "metadata": {},
   "outputs": [],
   "source": [
    "#seleccionamos la columna 5,6 7 del dataset\n",
    "X_multiple=df.iloc[:,:3]"
   ]
  },
  {
   "cell_type": "code",
   "execution_count": 145,
   "metadata": {},
   "outputs": [],
   "source": [
    "y_multiple=df.Humedad"
   ]
  },
  {
   "cell_type": "code",
   "execution_count": 146,
   "metadata": {},
   "outputs": [],
   "source": [
    "from sklearn.model_selection import train_test_split"
   ]
  },
  {
   "cell_type": "code",
   "execution_count": 147,
   "metadata": {},
   "outputs": [],
   "source": [
    "X_train, X_test, y_train, y_test=train_test_split(X_multiple, y_multiple)"
   ]
  },
  {
   "cell_type": "code",
   "execution_count": 148,
   "metadata": {},
   "outputs": [],
   "source": [
    "lr_multiple=linear_model.LinearRegression()"
   ]
  },
  {
   "cell_type": "code",
   "execution_count": 149,
   "metadata": {},
   "outputs": [
    {
     "data": {
      "text/plain": [
       "LinearRegression()"
      ]
     },
     "execution_count": 149,
     "metadata": {},
     "output_type": "execute_result"
    }
   ],
   "source": [
    "lr_multiple.fit (X_train, y_train)"
   ]
  },
  {
   "cell_type": "code",
   "execution_count": 150,
   "metadata": {},
   "outputs": [
    {
     "name": "stdout",
     "output_type": "stream",
     "text": [
      "[86. 84. 84. 84.]\n"
     ]
    }
   ],
   "source": [
    "Y_pred_multiple=lr_multiple.predict(X_test)\n",
    "print(Y_pred_multiple)"
   ]
  },
  {
   "cell_type": "code",
   "execution_count": 151,
   "metadata": {},
   "outputs": [
    {
     "name": "stdout",
     "output_type": "stream",
     "text": [
      "13    86\n",
      "4     84\n",
      "7     84\n",
      "10    84\n",
      "Name: Humedad, dtype: int64\n"
     ]
    }
   ],
   "source": [
    "print(y_test)"
   ]
  },
  {
   "cell_type": "code",
   "execution_count": 152,
   "metadata": {},
   "outputs": [
    {
     "name": "stdout",
     "output_type": "stream",
     "text": [
      "valor de la pendiente\n",
      "[ 1.28256328e-16  1.00000000e+00 -2.22044605e-16]\n"
     ]
    }
   ],
   "source": [
    "print(\"valor de la pendiente\")\n",
    "print(lr_multiple.coef_)"
   ]
  },
  {
   "cell_type": "code",
   "execution_count": 153,
   "metadata": {},
   "outputs": [
    {
     "name": "stdout",
     "output_type": "stream",
     "text": [
      "1.2825632817867723e-16\n",
      "0.999999999999999\n",
      "-2.220446049250313e-16\n"
     ]
    }
   ],
   "source": [
    "print(lr_multiple.coef_[0])\n",
    "print(lr_multiple.coef_[1])\n",
    "print(lr_multiple.coef_[2])"
   ]
  },
  {
   "cell_type": "code",
   "execution_count": 154,
   "metadata": {},
   "outputs": [
    {
     "name": "stdout",
     "output_type": "stream",
     "text": [
      "valor de la interseccion\n",
      "9.947598300641403e-14\n"
     ]
    }
   ],
   "source": [
    "print(\"valor de la interseccion\")\n",
    "print(lr_multiple.intercept_)"
   ]
  },
  {
   "cell_type": "code",
   "execution_count": 155,
   "metadata": {},
   "outputs": [
    {
     "name": "stdout",
     "output_type": "stream",
     "text": [
      "Ecuacion de la regresion lineal multiple: y=x1* 1.2825632817867723e-16  +x2* 0.999999999999999 +x3* -2.220446049250313e-16 + 9.947598300641403e-14\n"
     ]
    }
   ],
   "source": [
    "print(\"Ecuacion de la regresion lineal multiple: y=x1*\",lr_multiple.coef_[0], \" +x2*\",lr_multiple.coef_[1],\"+x3*\",lr_multiple.coef_[2],\"+\",lr_multiple.intercept_)"
   ]
  },
  {
   "cell_type": "code",
   "execution_count": 156,
   "metadata": {},
   "outputs": [
    {
     "name": "stdout",
     "output_type": "stream",
     "text": [
      "presision del algoritmo\n",
      "1.0\n"
     ]
    }
   ],
   "source": [
    "print(\"presision del algoritmo\")\n",
    "print(lr_multiple.score(X_train,y_train))"
   ]
  },
  {
   "cell_type": "code",
   "execution_count": null,
   "metadata": {},
   "outputs": [],
   "source": []
  }
 ],
 "metadata": {
  "kernelspec": {
   "display_name": "Python 3",
   "language": "python",
   "name": "python3"
  },
  "language_info": {
   "codemirror_mode": {
    "name": "ipython",
    "version": 3
   },
   "file_extension": ".py",
   "mimetype": "text/x-python",
   "name": "python",
   "nbconvert_exporter": "python",
   "pygments_lexer": "ipython3",
   "version": "3.7.6"
  }
 },
 "nbformat": 4,
 "nbformat_minor": 4
}
