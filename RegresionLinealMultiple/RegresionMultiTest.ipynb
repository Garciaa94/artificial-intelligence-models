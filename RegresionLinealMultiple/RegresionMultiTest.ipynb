{
 "cells": [
  {
   "cell_type": "code",
   "execution_count": 2,
   "metadata": {},
   "outputs": [],
   "source": [
    "#Importamos librerías \n",
    "import pandas as pd\n",
    "from sklearn.linear_model import LinearRegression \n",
    "from sklearn.model_selection import train_test_split\n",
    "from sklearn.model_selection import cross_val_score\n",
    "from sklearn import datasets, linear_model"
   ]
  },
  {
   "cell_type": "code",
   "execution_count": 3,
   "metadata": {},
   "outputs": [
    {
     "name": "stdout",
     "output_type": "stream",
     "text": [
      "        Unnamed: 0  SECTOR  ENTIDAD_UM  SEXO  ENTIDAD_RES  TIPO_PACIENTE  \\\n",
      "0                0       3          27     1           27              2   \n",
      "1                1       3          27     1           27              1   \n",
      "2                2       3          25     1           25              2   \n",
      "3                3       4           9     1            9              1   \n",
      "4                4       4          25     1           25              2   \n",
      "...            ...     ...         ...   ...          ...            ...   \n",
      "303456      303456       6           9     1            9              2   \n",
      "303457      303457      12           9     1           15              1   \n",
      "303458      303458      12          15     1           15              1   \n",
      "303459      303459       9           9     1            9              1   \n",
      "303460      303460      12          12     2           12              1   \n",
      "\n",
      "       FECHA_INGRESO FECHA_SINTOMAS   FECHA_DEF  INTUBADO  ...  INMUSUPR  \\\n",
      "0         2020-04-17     2020-04-02  2020-04-20         2  ...         2   \n",
      "1         2020-05-15     2020-05-14  9999-99-99        97  ...         2   \n",
      "2         2020-05-20     2020-05-13  9999-99-99         2  ...         2   \n",
      "3         2020-04-15     2020-04-12  9999-99-99        97  ...         2   \n",
      "4         2020-04-13     2020-04-13  2020-04-23         2  ...         2   \n",
      "...              ...            ...         ...       ...  ...       ...   \n",
      "303456    2020-05-12     2020-05-07  9999-99-99         2  ...         2   \n",
      "303457    2020-05-15     2020-05-10  9999-99-99        97  ...         2   \n",
      "303458    2020-05-15     2020-05-09  9999-99-99        97  ...         2   \n",
      "303459    2020-05-16     2020-05-16  9999-99-99        97  ...         2   \n",
      "303460    2020-05-12     2020-05-08  9999-99-99        97  ...         2   \n",
      "\n",
      "        HIPERTENSION  OTRA_CON  CARDIOVASCULAR  OBESIDAD  RENAL_CRONICA  \\\n",
      "0                  1         1               1         2              2   \n",
      "1                  2         2               2         2              2   \n",
      "2                  2         2               2         1              2   \n",
      "3                  2         2               2         2              2   \n",
      "4                  1         2               2         1              2   \n",
      "...              ...       ...             ...       ...            ...   \n",
      "303456             2         2               2         2              2   \n",
      "303457             2         2               2         2              2   \n",
      "303458             2         2               2         1              2   \n",
      "303459             1         2               2         2              2   \n",
      "303460             2         2               2         2              2   \n",
      "\n",
      "        TABAQUISMO  OTRO_CASO  RESULTADO  UCI  \n",
      "0                2          2          1    1  \n",
      "1                2          1          1   97  \n",
      "2                2         99          1    2  \n",
      "3                2         99          1   97  \n",
      "4                2         99          1    2  \n",
      "...            ...        ...        ...  ...  \n",
      "303456           2          2          3    2  \n",
      "303457           2          2          3   97  \n",
      "303458           2          2          3   97  \n",
      "303459           2          1          3   97  \n",
      "303460           2          1          3   97  \n",
      "\n",
      "[303461 rows x 26 columns]\n"
     ]
    }
   ],
   "source": [
    "df= pd.read_csv(\"covid-19_general_MX.csv\")\n",
    "print(df)\n"
   ]
  },
  {
   "cell_type": "code",
   "execution_count": 4,
   "metadata": {},
   "outputs": [
    {
     "name": "stdout",
     "output_type": "stream",
     "text": [
      "Index(['Unnamed: 0', 'SECTOR', 'ENTIDAD_UM', 'SEXO', 'ENTIDAD_RES',\n",
      "       'TIPO_PACIENTE', 'FECHA_INGRESO', 'FECHA_SINTOMAS', 'FECHA_DEF',\n",
      "       'INTUBADO', 'NEUMONIA', 'EDAD', 'NACIONALIDAD', 'DIABETES', 'EPOC',\n",
      "       'ASMA', 'INMUSUPR', 'HIPERTENSION', 'OTRA_CON', 'CARDIOVASCULAR',\n",
      "       'OBESIDAD', 'RENAL_CRONICA', 'TABAQUISMO', 'OTRO_CASO', 'RESULTADO',\n",
      "       'UCI'],\n",
      "      dtype='object')\n"
     ]
    }
   ],
   "source": [
    "print(df.keys())"
   ]
  },
  {
   "cell_type": "code",
   "execution_count": 5,
   "metadata": {},
   "outputs": [
    {
     "data": {
      "text/html": [
       "<div>\n",
       "<style scoped>\n",
       "    .dataframe tbody tr th:only-of-type {\n",
       "        vertical-align: middle;\n",
       "    }\n",
       "\n",
       "    .dataframe tbody tr th {\n",
       "        vertical-align: top;\n",
       "    }\n",
       "\n",
       "    .dataframe thead th {\n",
       "        text-align: right;\n",
       "    }\n",
       "</style>\n",
       "<table border=\"1\" class=\"dataframe\">\n",
       "  <thead>\n",
       "    <tr style=\"text-align: right;\">\n",
       "      <th></th>\n",
       "      <th>Unnamed: 0</th>\n",
       "      <th>SECTOR</th>\n",
       "      <th>ENTIDAD_UM</th>\n",
       "      <th>SEXO</th>\n",
       "      <th>ENTIDAD_RES</th>\n",
       "      <th>TIPO_PACIENTE</th>\n",
       "      <th>FECHA_INGRESO</th>\n",
       "      <th>FECHA_SINTOMAS</th>\n",
       "      <th>FECHA_DEF</th>\n",
       "      <th>INTUBADO</th>\n",
       "      <th>...</th>\n",
       "      <th>INMUSUPR</th>\n",
       "      <th>HIPERTENSION</th>\n",
       "      <th>OTRA_CON</th>\n",
       "      <th>CARDIOVASCULAR</th>\n",
       "      <th>OBESIDAD</th>\n",
       "      <th>RENAL_CRONICA</th>\n",
       "      <th>TABAQUISMO</th>\n",
       "      <th>OTRO_CASO</th>\n",
       "      <th>RESULTADO</th>\n",
       "      <th>UCI</th>\n",
       "    </tr>\n",
       "  </thead>\n",
       "  <tbody>\n",
       "    <tr>\n",
       "      <th>0</th>\n",
       "      <td>0</td>\n",
       "      <td>3</td>\n",
       "      <td>27</td>\n",
       "      <td>1</td>\n",
       "      <td>27</td>\n",
       "      <td>2</td>\n",
       "      <td>2020-04-17</td>\n",
       "      <td>2020-04-02</td>\n",
       "      <td>2020-04-20</td>\n",
       "      <td>2</td>\n",
       "      <td>...</td>\n",
       "      <td>2</td>\n",
       "      <td>1</td>\n",
       "      <td>1</td>\n",
       "      <td>1</td>\n",
       "      <td>2</td>\n",
       "      <td>2</td>\n",
       "      <td>2</td>\n",
       "      <td>2</td>\n",
       "      <td>1</td>\n",
       "      <td>1</td>\n",
       "    </tr>\n",
       "    <tr>\n",
       "      <th>1</th>\n",
       "      <td>1</td>\n",
       "      <td>3</td>\n",
       "      <td>27</td>\n",
       "      <td>1</td>\n",
       "      <td>27</td>\n",
       "      <td>1</td>\n",
       "      <td>2020-05-15</td>\n",
       "      <td>2020-05-14</td>\n",
       "      <td>9999-99-99</td>\n",
       "      <td>97</td>\n",
       "      <td>...</td>\n",
       "      <td>2</td>\n",
       "      <td>2</td>\n",
       "      <td>2</td>\n",
       "      <td>2</td>\n",
       "      <td>2</td>\n",
       "      <td>2</td>\n",
       "      <td>2</td>\n",
       "      <td>1</td>\n",
       "      <td>1</td>\n",
       "      <td>97</td>\n",
       "    </tr>\n",
       "    <tr>\n",
       "      <th>2</th>\n",
       "      <td>2</td>\n",
       "      <td>3</td>\n",
       "      <td>25</td>\n",
       "      <td>1</td>\n",
       "      <td>25</td>\n",
       "      <td>2</td>\n",
       "      <td>2020-05-20</td>\n",
       "      <td>2020-05-13</td>\n",
       "      <td>9999-99-99</td>\n",
       "      <td>2</td>\n",
       "      <td>...</td>\n",
       "      <td>2</td>\n",
       "      <td>2</td>\n",
       "      <td>2</td>\n",
       "      <td>2</td>\n",
       "      <td>1</td>\n",
       "      <td>2</td>\n",
       "      <td>2</td>\n",
       "      <td>99</td>\n",
       "      <td>1</td>\n",
       "      <td>2</td>\n",
       "    </tr>\n",
       "    <tr>\n",
       "      <th>3</th>\n",
       "      <td>3</td>\n",
       "      <td>4</td>\n",
       "      <td>9</td>\n",
       "      <td>1</td>\n",
       "      <td>9</td>\n",
       "      <td>1</td>\n",
       "      <td>2020-04-15</td>\n",
       "      <td>2020-04-12</td>\n",
       "      <td>9999-99-99</td>\n",
       "      <td>97</td>\n",
       "      <td>...</td>\n",
       "      <td>2</td>\n",
       "      <td>2</td>\n",
       "      <td>2</td>\n",
       "      <td>2</td>\n",
       "      <td>2</td>\n",
       "      <td>2</td>\n",
       "      <td>2</td>\n",
       "      <td>99</td>\n",
       "      <td>1</td>\n",
       "      <td>97</td>\n",
       "    </tr>\n",
       "    <tr>\n",
       "      <th>4</th>\n",
       "      <td>4</td>\n",
       "      <td>4</td>\n",
       "      <td>25</td>\n",
       "      <td>1</td>\n",
       "      <td>25</td>\n",
       "      <td>2</td>\n",
       "      <td>2020-04-13</td>\n",
       "      <td>2020-04-13</td>\n",
       "      <td>2020-04-23</td>\n",
       "      <td>2</td>\n",
       "      <td>...</td>\n",
       "      <td>2</td>\n",
       "      <td>1</td>\n",
       "      <td>2</td>\n",
       "      <td>2</td>\n",
       "      <td>1</td>\n",
       "      <td>2</td>\n",
       "      <td>2</td>\n",
       "      <td>99</td>\n",
       "      <td>1</td>\n",
       "      <td>2</td>\n",
       "    </tr>\n",
       "    <tr>\n",
       "      <th>5</th>\n",
       "      <td>5</td>\n",
       "      <td>4</td>\n",
       "      <td>9</td>\n",
       "      <td>1</td>\n",
       "      <td>15</td>\n",
       "      <td>1</td>\n",
       "      <td>2020-04-27</td>\n",
       "      <td>2020-04-25</td>\n",
       "      <td>9999-99-99</td>\n",
       "      <td>97</td>\n",
       "      <td>...</td>\n",
       "      <td>2</td>\n",
       "      <td>2</td>\n",
       "      <td>2</td>\n",
       "      <td>2</td>\n",
       "      <td>2</td>\n",
       "      <td>2</td>\n",
       "      <td>2</td>\n",
       "      <td>99</td>\n",
       "      <td>1</td>\n",
       "      <td>97</td>\n",
       "    </tr>\n",
       "  </tbody>\n",
       "</table>\n",
       "<p>6 rows × 26 columns</p>\n",
       "</div>"
      ],
      "text/plain": [
       "   Unnamed: 0  SECTOR  ENTIDAD_UM  SEXO  ENTIDAD_RES  TIPO_PACIENTE  \\\n",
       "0           0       3          27     1           27              2   \n",
       "1           1       3          27     1           27              1   \n",
       "2           2       3          25     1           25              2   \n",
       "3           3       4           9     1            9              1   \n",
       "4           4       4          25     1           25              2   \n",
       "5           5       4           9     1           15              1   \n",
       "\n",
       "  FECHA_INGRESO FECHA_SINTOMAS   FECHA_DEF  INTUBADO  ...  INMUSUPR  \\\n",
       "0    2020-04-17     2020-04-02  2020-04-20         2  ...         2   \n",
       "1    2020-05-15     2020-05-14  9999-99-99        97  ...         2   \n",
       "2    2020-05-20     2020-05-13  9999-99-99         2  ...         2   \n",
       "3    2020-04-15     2020-04-12  9999-99-99        97  ...         2   \n",
       "4    2020-04-13     2020-04-13  2020-04-23         2  ...         2   \n",
       "5    2020-04-27     2020-04-25  9999-99-99        97  ...         2   \n",
       "\n",
       "   HIPERTENSION  OTRA_CON  CARDIOVASCULAR  OBESIDAD  RENAL_CRONICA  \\\n",
       "0             1         1               1         2              2   \n",
       "1             2         2               2         2              2   \n",
       "2             2         2               2         1              2   \n",
       "3             2         2               2         2              2   \n",
       "4             1         2               2         1              2   \n",
       "5             2         2               2         2              2   \n",
       "\n",
       "   TABAQUISMO  OTRO_CASO  RESULTADO  UCI  \n",
       "0           2          2          1    1  \n",
       "1           2          1          1   97  \n",
       "2           2         99          1    2  \n",
       "3           2         99          1   97  \n",
       "4           2         99          1    2  \n",
       "5           2         99          1   97  \n",
       "\n",
       "[6 rows x 26 columns]"
      ]
     },
     "execution_count": 5,
     "metadata": {},
     "output_type": "execute_result"
    }
   ],
   "source": [
    "df.head(6)"
   ]
  },
  {
   "cell_type": "code",
   "execution_count": 6,
   "metadata": {},
   "outputs": [
    {
     "name": "stdout",
     "output_type": "stream",
     "text": [
      "0         2\n",
      "1         2\n",
      "2         1\n",
      "3         2\n",
      "4         1\n",
      "         ..\n",
      "303456    2\n",
      "303457    2\n",
      "303458    1\n",
      "303459    2\n",
      "303460    2\n",
      "Name: OBESIDAD, Length: 303461, dtype: int64\n"
     ]
    }
   ],
   "source": [
    "print(df.OBESIDAD)"
   ]
  },
  {
   "cell_type": "code",
   "execution_count": 7,
   "metadata": {},
   "outputs": [
    {
     "name": "stdout",
     "output_type": "stream",
     "text": [
      "0          2\n",
      "1          1\n",
      "2         99\n",
      "3         99\n",
      "4         99\n",
      "          ..\n",
      "303456     2\n",
      "303457     2\n",
      "303458     2\n",
      "303459     1\n",
      "303460     1\n",
      "Name: OTRO_CASO, Length: 303461, dtype: int64\n"
     ]
    }
   ],
   "source": [
    "print(df.OTRO_CASO)"
   ]
  },
  {
   "cell_type": "code",
   "execution_count": 8,
   "metadata": {},
   "outputs": [],
   "source": [
    "#seleccionamos la columna 13,15 15 del dataset\n",
    "X_multiple=df.iloc[:,13:16]"
   ]
  },
  {
   "cell_type": "code",
   "execution_count": 9,
   "metadata": {},
   "outputs": [],
   "source": [
    "y_multiple=df.TABAQUISMO\n"
   ]
  },
  {
   "cell_type": "code",
   "execution_count": 10,
   "metadata": {},
   "outputs": [],
   "source": [
    "from sklearn.model_selection import train_test_split"
   ]
  },
  {
   "cell_type": "code",
   "execution_count": 11,
   "metadata": {},
   "outputs": [],
   "source": [
    "X_train, X_test, y_train, y_test=train_test_split(X_multiple, y_multiple)"
   ]
  },
  {
   "cell_type": "code",
   "execution_count": 44,
   "metadata": {},
   "outputs": [],
   "source": [
    "lr_multiple=linear_model.LinearRegression()"
   ]
  },
  {
   "cell_type": "code",
   "execution_count": 45,
   "metadata": {},
   "outputs": [
    {
     "data": {
      "text/plain": [
       "LinearRegression()"
      ]
     },
     "execution_count": 45,
     "metadata": {},
     "output_type": "execute_result"
    }
   ],
   "source": [
    "lr_multiple.fit (X_train, y_train)"
   ]
  },
  {
   "cell_type": "code",
   "execution_count": 46,
   "metadata": {},
   "outputs": [
    {
     "name": "stdout",
     "output_type": "stream",
     "text": [
      "[1.99610684 1.99610684 1.99610684 ... 1.99610684 1.99610684 1.99610684]\n"
     ]
    }
   ],
   "source": [
    "Y_pred_multiple=lr_multiple.predict(X_test)\n",
    "print(Y_pred_multiple)"
   ]
  },
  {
   "cell_type": "code",
   "execution_count": 47,
   "metadata": {},
   "outputs": [
    {
     "name": "stdout",
     "output_type": "stream",
     "text": [
      "189261    2\n",
      "132813    2\n",
      "204906    2\n",
      "161948    2\n",
      "173182    2\n",
      "         ..\n",
      "62069     2\n",
      "210475    2\n",
      "179896    2\n",
      "18228     2\n",
      "69556     2\n",
      "Name: TABAQUISMO, Length: 75866, dtype: int64\n"
     ]
    }
   ],
   "source": [
    "print(y_test)"
   ]
  },
  {
   "cell_type": "code",
   "execution_count": 48,
   "metadata": {},
   "outputs": [
    {
     "name": "stdout",
     "output_type": "stream",
     "text": [
      "valor de la pendiente\n",
      "[0.13699012 0.26659646 0.50792296]\n"
     ]
    }
   ],
   "source": [
    "print(\"valor de la pendiente\")\n",
    "print(lr_multiple.coef_)"
   ]
  },
  {
   "cell_type": "code",
   "execution_count": 49,
   "metadata": {},
   "outputs": [
    {
     "name": "stdout",
     "output_type": "stream",
     "text": [
      "0.13699011746988074\n",
      "0.26659646081313426\n",
      "0.5079229641225109\n"
     ]
    }
   ],
   "source": [
    "print(lr_multiple.coef_[0])\n",
    "print(lr_multiple.coef_[1])\n",
    "print(lr_multiple.coef_[2])"
   ]
  },
  {
   "cell_type": "code",
   "execution_count": 50,
   "metadata": {},
   "outputs": [
    {
     "name": "stdout",
     "output_type": "stream",
     "text": [
      "valor de la interseccion\n",
      "0.17308775342211424\n"
     ]
    }
   ],
   "source": [
    "print(\"valor de la interseccion\")\n",
    "print(lr_multiple.intercept_)"
   ]
  },
  {
   "cell_type": "code",
   "execution_count": 51,
   "metadata": {},
   "outputs": [
    {
     "name": "stdout",
     "output_type": "stream",
     "text": [
      "Ecuacion de la regresion lineal multiple: y=x1* 0.13699011746988074  +x2* 0.26659646081313426 +x3* 0.5079229641225109 + 0.17308775342211424\n"
     ]
    }
   ],
   "source": [
    "print(\"Ecuacion de la regresion lineal multiple: y=x1*\",lr_multiple.coef_[0], \" +x2*\",lr_multiple.coef_[1],\"+x3*\",lr_multiple.coef_[2],\"+\",lr_multiple.intercept_)"
   ]
  },
  {
   "cell_type": "code",
   "execution_count": 52,
   "metadata": {},
   "outputs": [
    {
     "name": "stdout",
     "output_type": "stream",
     "text": [
      "presision del algoritmo\n",
      "0.7374002946794309\n"
     ]
    }
   ],
   "source": [
    "print(\"presision del algoritmo\")\n",
    "print(lr_multiple.score(X_train,y_train))"
   ]
  },
  {
   "cell_type": "code",
   "execution_count": null,
   "metadata": {},
   "outputs": [],
   "source": []
  }
 ],
 "metadata": {
  "kernelspec": {
   "display_name": "Python 3",
   "language": "python",
   "name": "python3"
  },
  "language_info": {
   "codemirror_mode": {
    "name": "ipython",
    "version": 3
   },
   "file_extension": ".py",
   "mimetype": "text/x-python",
   "name": "python",
   "nbconvert_exporter": "python",
   "pygments_lexer": "ipython3",
   "version": "3.7.6"
  }
 },
 "nbformat": 4,
 "nbformat_minor": 4
}
