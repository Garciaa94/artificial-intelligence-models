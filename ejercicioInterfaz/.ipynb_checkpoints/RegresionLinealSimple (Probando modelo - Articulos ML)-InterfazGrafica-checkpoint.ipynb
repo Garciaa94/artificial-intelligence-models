{
 "cells": [
  {
   "cell_type": "code",
   "execution_count": 3,
   "metadata": {},
   "outputs": [],
   "source": [
    "#Importamos librería para cargar modelo entrenado\n",
    "from sklearn.externals import joblib\n",
    "\n",
    "#Importamos librería para crear interfaz gráfica\n",
    "from tkinter import *\n",
    "import tkinter as tk\n",
    "from tkinter.filedialog import askopenfilename\n",
    "from tkinter import messagebox"
   ]
  },
  {
   "cell_type": "code",
   "execution_count": 4,
   "metadata": {},
   "outputs": [
    {
     "ename": "KeyboardInterrupt",
     "evalue": "",
     "output_type": "error",
     "traceback": [
      "\u001b[1;31m---------------------------------------------------------------------------\u001b[0m",
      "\u001b[1;31mKeyboardInterrupt\u001b[0m                         Traceback (most recent call last)",
      "\u001b[1;32m<ipython-input-4-6d5d1bae30de>\u001b[0m in \u001b[0;36m<module>\u001b[1;34m\u001b[0m\n\u001b[0;32m     55\u001b[0m \u001b[0mButton\u001b[0m\u001b[1;33m(\u001b[0m\u001b[0mventana\u001b[0m\u001b[1;33m,\u001b[0m \u001b[0mcommand\u001b[0m\u001b[1;33m=\u001b[0m\u001b[0mClean\u001b[0m\u001b[1;33m,\u001b[0m \u001b[0mtext\u001b[0m\u001b[1;33m=\u001b[0m\u001b[1;34m\"Clean\"\u001b[0m\u001b[1;33m,\u001b[0m \u001b[0mfont\u001b[0m\u001b[1;33m=\u001b[0m\u001b[1;33m(\u001b[0m\u001b[1;34m\"Verdana\"\u001b[0m\u001b[1;33m,\u001b[0m\u001b[1;36m13\u001b[0m\u001b[1;33m)\u001b[0m\u001b[1;33m,\u001b[0m \u001b[0mbackground\u001b[0m\u001b[1;33m=\u001b[0m\u001b[1;34m\"red\"\u001b[0m\u001b[1;33m)\u001b[0m\u001b[1;33m.\u001b[0m\u001b[0mplace\u001b[0m\u001b[1;33m(\u001b[0m\u001b[0mx\u001b[0m\u001b[1;33m=\u001b[0m\u001b[1;36m210\u001b[0m\u001b[1;33m,\u001b[0m \u001b[0my\u001b[0m\u001b[1;33m=\u001b[0m\u001b[1;36m200\u001b[0m\u001b[1;33m)\u001b[0m\u001b[1;33m\u001b[0m\u001b[1;33m\u001b[0m\u001b[0m\n\u001b[0;32m     56\u001b[0m \u001b[1;33m\u001b[0m\u001b[0m\n\u001b[1;32m---> 57\u001b[1;33m \u001b[0mventana\u001b[0m\u001b[1;33m.\u001b[0m\u001b[0mmainloop\u001b[0m\u001b[1;33m(\u001b[0m\u001b[1;33m)\u001b[0m \u001b[1;31m# Fin del programa\u001b[0m\u001b[1;33m\u001b[0m\u001b[1;33m\u001b[0m\u001b[0m\n\u001b[0m",
      "\u001b[1;32mc:\\program files\\python37\\lib\\tkinter\\__init__.py\u001b[0m in \u001b[0;36mmainloop\u001b[1;34m(self, n)\u001b[0m\n\u001b[0;32m   1281\u001b[0m     \u001b[1;32mdef\u001b[0m \u001b[0mmainloop\u001b[0m\u001b[1;33m(\u001b[0m\u001b[0mself\u001b[0m\u001b[1;33m,\u001b[0m \u001b[0mn\u001b[0m\u001b[1;33m=\u001b[0m\u001b[1;36m0\u001b[0m\u001b[1;33m)\u001b[0m\u001b[1;33m:\u001b[0m\u001b[1;33m\u001b[0m\u001b[1;33m\u001b[0m\u001b[0m\n\u001b[0;32m   1282\u001b[0m         \u001b[1;34m\"\"\"Call the mainloop of Tk.\"\"\"\u001b[0m\u001b[1;33m\u001b[0m\u001b[1;33m\u001b[0m\u001b[0m\n\u001b[1;32m-> 1283\u001b[1;33m         \u001b[0mself\u001b[0m\u001b[1;33m.\u001b[0m\u001b[0mtk\u001b[0m\u001b[1;33m.\u001b[0m\u001b[0mmainloop\u001b[0m\u001b[1;33m(\u001b[0m\u001b[0mn\u001b[0m\u001b[1;33m)\u001b[0m\u001b[1;33m\u001b[0m\u001b[1;33m\u001b[0m\u001b[0m\n\u001b[0m\u001b[0;32m   1284\u001b[0m     \u001b[1;32mdef\u001b[0m \u001b[0mquit\u001b[0m\u001b[1;33m(\u001b[0m\u001b[0mself\u001b[0m\u001b[1;33m)\u001b[0m\u001b[1;33m:\u001b[0m\u001b[1;33m\u001b[0m\u001b[1;33m\u001b[0m\u001b[0m\n\u001b[0;32m   1285\u001b[0m         \u001b[1;34m\"\"\"Quit the Tcl interpreter. All widgets will be destroyed.\"\"\"\u001b[0m\u001b[1;33m\u001b[0m\u001b[1;33m\u001b[0m\u001b[0m\n",
      "\u001b[1;31mKeyboardInterrupt\u001b[0m: "
     ]
    }
   ],
   "source": [
    "clf=\"\"\n",
    "\n",
    "# Funciones\n",
    "def ModelLoad():\n",
    "    try:\n",
    "        global clf\n",
    "        Tk().withdraw() # we don't want a full GUI, so keep the root window from appearing\n",
    "        filename = askopenfilename() # show an \"Open\" dialog box and return the path to the selected file\n",
    "        clf = joblib.load(filename) # Cargamos modelo previamente entrenado\n",
    "        #Mensaje de confirmación\n",
    "        messagebox.showinfo(message=\"Modelo cargado correctamente\", title=\"Mensaje\") \n",
    "    except:\n",
    "        #Mensaje de error\n",
    "        messagebox.showerror(message=\"No se eligió el modelo\", title=\"Mensaje\")\n",
    "    \n",
    "def Predict(): #Función para predicir\n",
    "    try:\n",
    "        wc = int(wordcount.get())\n",
    "        y_predict = clf.predict([[wc]]) # Obtiene valor ingresado por teclado y realiza predicción\n",
    "        salida.set(y_predict) # Asigna el resultado a la variable salida y muestra éste.\n",
    "        #Mensaje de confirmación\n",
    "        messagebox.showinfo(message=\"Predicción realizado correctamente\", title=\"Mensaje\")\n",
    "    except:\n",
    "        #Mensaje de error\n",
    "        messagebox.showerror(message=\"Ocurrió un error\", title=\"Mensaje\")\n",
    "    \n",
    "def Clean(): # Función para limpiar \n",
    "    wordcount.set(\"\")\n",
    "    salida.set(\"\")\n",
    "\n",
    "# Ventana (INTERFAZ)\n",
    "ventana = Tk()\n",
    "ventana.title(\"Machine Learning (Linear Regression)\") #Título de la interfaz\n",
    "\n",
    "ventana = Frame(height=300,width=410) # El ancho y la altura de la interfaz\n",
    "ventana.pack(padx=20,pady=20) # Relleno de la ventana\n",
    "\n",
    "# ---------- Label para mostrar textos -----------------\n",
    "Label(ventana, justify=\"center\",text=\"Predecir el número de veces que un artículo será compartido\\n en redes sociales\",font=(\"Verdana\",10)).place(x=0,y=0)\n",
    "\n",
    "Label(text=\"Modelo: \",font=(\"Verdana\",13)).place(x=0,y=85)\n",
    "Label(text=\"Word Count: \",font=(\"Verdana\",13)).place(x=0,y=130) # ubicaciones de label\n",
    "Label(text=\"# Shares: \",  font=(\"Verdana\",13)).place(x=0,y=170)\n",
    "\n",
    "# --------------------- Ingreso por teclado ---------------\n",
    "wordcount = StringVar()\n",
    "Entry(ventana, justify=\"center\", textvariable=wordcount, font=(\"Arial\",15)).place(x=120,y=110)\n",
    "\n",
    "salida = StringVar()\n",
    "Entry(ventana, justify=\"center\", textvariable=salida, state=\"disable\", font=(\"Arial\",15)).place(x=120,y=150)\n",
    "\n",
    "# ---------------------- Botones ----------------------\n",
    "Button(ventana, command=ModelLoad, text=\"Cargar Modelo\", font=(\"Verdana\",10), background=\"gray\").place(x=120, y=65)\n",
    "Button(ventana, command=Predict, text=\"Predict\", font=(\"Verdana\",13), background=\"green\").place(x=110, y=200)\n",
    "Button(ventana, command=Clean, text=\"Clean\", font=(\"Verdana\",13), background=\"red\").place(x=210, y=200)\n",
    "\n",
    "ventana.mainloop() # Fin del programa"
   ]
  },
  {
   "cell_type": "code",
   "execution_count": null,
   "metadata": {},
   "outputs": [],
   "source": []
  },
  {
   "cell_type": "code",
   "execution_count": null,
   "metadata": {},
   "outputs": [],
   "source": []
  }
 ],
 "metadata": {
  "kernelspec": {
   "display_name": "Python 3",
   "language": "python",
   "name": "python3"
  },
  "language_info": {
   "codemirror_mode": {
    "name": "ipython",
    "version": 3
   },
   "file_extension": ".py",
   "mimetype": "text/x-python",
   "name": "python",
   "nbconvert_exporter": "python",
   "pygments_lexer": "ipython3",
   "version": "3.7.6"
  }
 },
 "nbformat": 4,
 "nbformat_minor": 2
}
