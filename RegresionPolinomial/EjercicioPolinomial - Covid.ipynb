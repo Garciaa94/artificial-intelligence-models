{
 "cells": [
  {
   "cell_type": "code",
   "execution_count": 17,
   "metadata": {},
   "outputs": [],
   "source": [
    "import numpy as np\n",
    "import pandas as pd\n",
    "from sklearn import datasets, linear_model\n",
    "import matplotlib.pyplot as plt\n",
    "\n",
    "from sklearn.linear_model import LinearRegression \n",
    "from sklearn.model_selection import train_test_split\n",
    "from sklearn.model_selection import cross_val_score"
   ]
  },
  {
   "cell_type": "code",
   "execution_count": 18,
   "metadata": {},
   "outputs": [],
   "source": [
    "boston=pd.read_csv(\"articulos_ml.csv\")\n",
    "#print(boston)"
   ]
  },
  {
   "cell_type": "code",
   "execution_count": 19,
   "metadata": {},
   "outputs": [
    {
     "name": "stdout",
     "output_type": "stream",
     "text": [
      "Index(['Title', 'url', 'Word count', '# of Links', '# of comments',\n",
      "       '# Images video', 'Elapsed days', 'Shares'],\n",
      "      dtype='object')\n"
     ]
    }
   ],
   "source": [
    "print(boston.keys())\n"
   ]
  },
  {
   "cell_type": "code",
   "execution_count": 20,
   "metadata": {},
   "outputs": [],
   "source": [
    "#boston.describe() # columnas para DAtos Estadisticos"
   ]
  },
  {
   "cell_type": "code",
   "execution_count": 21,
   "metadata": {},
   "outputs": [
    {
     "name": "stdout",
     "output_type": "stream",
     "text": [
      "     Word count\n",
      "0          1888\n",
      "1          1742\n",
      "2           962\n",
      "3          1221\n",
      "4          2039\n",
      "..          ...\n",
      "156        3239\n",
      "157        2566\n",
      "158        2089\n",
      "159        1530\n",
      "160         953\n",
      "\n",
      "[161 rows x 1 columns]\n"
     ]
    }
   ],
   "source": [
    "X_polinom=boston[['Word count']] #cargamo valor de x1 en data\n",
    "#X_polinom=boston.iloc[:,np.newaxis,3]\n",
    "print(X_polinom)"
   ]
  },
  {
   "cell_type": "code",
   "execution_count": 23,
   "metadata": {},
   "outputs": [
    {
     "name": "stdout",
     "output_type": "stream",
     "text": [
      "0      200000\n",
      "1       25000\n",
      "2       42000\n",
      "3      200000\n",
      "4      200000\n",
      "        ...  \n",
      "156      3239\n",
      "157     25019\n",
      "158     49614\n",
      "159     33660\n",
      "160      5956\n",
      "Name: Shares, Length: 161, dtype: int64\n"
     ]
    }
   ],
   "source": [
    "y_polinom=boston.Shares\n",
    "print(y_polinom)"
   ]
  },
  {
   "cell_type": "code",
   "execution_count": 24,
   "metadata": {},
   "outputs": [
    {
     "data": {
      "text/plain": [
       "<matplotlib.collections.PathCollection at 0x19bb7d745c8>"
      ]
     },
     "execution_count": 24,
     "metadata": {},
     "output_type": "execute_result"
    },
    {
     "data": {
      "image/png": "[encoded data removed]",
      "text/plain": [
       "<Figure size 432x288 with 1 Axes>"
      ]
     },
     "metadata": {
      "needs_background": "light"
     },
     "output_type": "display_data"
    }
   ],
   "source": [
    "plt.scatter(X_polinom,y_polinom)"
   ]
  },
  {
   "cell_type": "code",
   "execution_count": 25,
   "metadata": {},
   "outputs": [],
   "source": [
    "from sklearn.model_selection import train_test_split\n",
    "X_train, X_test, y_train, y_test=train_test_split(X_polinom, y_polinom, test_size=0.2)"
   ]
  },
  {
   "cell_type": "code",
   "execution_count": 78,
   "metadata": {},
   "outputs": [],
   "source": [
    "#definicion del grado del polinomio de grado tallll \n",
    "from sklearn.preprocessing import PolynomialFeatures\n",
    "polinomial_regr = PolynomialFeatures(degree=9)"
   ]
  },
  {
   "cell_type": "code",
   "execution_count": 79,
   "metadata": {},
   "outputs": [],
   "source": [
    "x_train_poli = polinomial_regr.fit_transform(X_train)\n",
    "x_test_poli = polinomial_regr.fit_transform(X_test)"
   ]
  },
  {
   "cell_type": "code",
   "execution_count": 80,
   "metadata": {},
   "outputs": [],
   "source": [
    "pr= linear_model.LinearRegression()"
   ]
  },
  {
   "cell_type": "code",
   "execution_count": 81,
   "metadata": {},
   "outputs": [
    {
     "data": {
      "text/plain": [
       "LinearRegression()"
      ]
     },
     "execution_count": 81,
     "metadata": {},
     "output_type": "execute_result"
    }
   ],
   "source": [
    "#entrenamos el modelo\n",
    "pr.fit(x_train_poli, y_train)"
   ]
  },
  {
   "cell_type": "code",
   "execution_count": 82,
   "metadata": {},
   "outputs": [
    {
     "name": "stdout",
     "output_type": "stream",
     "text": [
      "[31580.54971745 26638.01338499 29717.10196946 31601.28003608\n",
      " 31346.38421545 32826.16932972 27670.8715038  33907.55905948\n",
      " 28808.54423522 26882.62129418 26562.32741578 27414.50570457\n",
      " 28903.44590576 32594.92701425 26886.50334271 30391.58916548\n",
      " 26560.12347128 26808.83338276 34979.66555355 34975.98884955\n",
      " 26754.6928802  28042.84123017 34731.24986574 28574.33181487\n",
      " 26693.55977548 29234.06210343 26564.48717011 30619.23575412\n",
      " 26645.17282682 26632.96046953 26562.13297421 31815.88959662\n",
      " 34698.47285662]\n"
     ]
    }
   ],
   "source": [
    "#hacerprediccion\n",
    "y_pred=pr.predict(x_test_poli)\n",
    "#print(y_test)\n",
    "print(y_pred)"
   ]
  },
  {
   "cell_type": "code",
   "execution_count": 83,
   "metadata": {},
   "outputs": [
    {
     "data": {
      "image/png": "[encoded data removed]",
      "text/plain": [
       "<Figure size 432x288 with 1 Axes>"
      ]
     },
     "metadata": {
      "needs_background": "light"
     },
     "output_type": "display_data"
    }
   ],
   "source": [
    "#dibujamos\n",
    "plt.scatter (X_test, y_test)\n",
    "plt.plot(X_test, y_pred, color ='red')\n",
    "plt.show()"
   ]
  },
  {
   "cell_type": "code",
   "execution_count": 84,
   "metadata": {},
   "outputs": [
    {
     "name": "stdout",
     "output_type": "stream",
     "text": [
      "Valor de la pendiente\n",
      "[ 0.00000000e+00 -4.17011414e-19  7.41340456e-25  2.55213197e-26\n",
      "  6.45249998e-23  1.33601838e-19  1.77839461e-16 -9.82169091e-20\n",
      "  1.70842566e-23 -9.41967184e-28]\n"
     ]
    }
   ],
   "source": [
    "print(\"Valor de la pendiente\")\n",
    "print(pr.coef_)"
   ]
  },
  {
   "cell_type": "code",
   "execution_count": 85,
   "metadata": {},
   "outputs": [
    {
     "name": "stdout",
     "output_type": "stream",
     "text": [
      "Valor de la Interseccion\n",
      "26560.08018035069\n"
     ]
    }
   ],
   "source": [
    "print(\"Valor de la Interseccion\")\n",
    "print(pr.intercept_)"
   ]
  },
  {
   "cell_type": "code",
   "execution_count": 86,
   "metadata": {},
   "outputs": [
    {
     "name": "stdout",
     "output_type": "stream",
     "text": [
      "Valor de la Interseccion\n",
      "0.11402084599918527\n"
     ]
    }
   ],
   "source": [
    "print(\"Valor de la Interseccion\")\n",
    "print(pr.score(x_train_poli,y_train))"
   ]
  },
  {
   "cell_type": "code",
   "execution_count": 77,
   "metadata": {},
   "outputs": [
    {
     "name": "stdout",
     "output_type": "stream",
     "text": [
      "Y= -4.181288247598391e-67 x1 + 9.585718605224994e-74 x2 + -1.727233711018889e-77\n"
     ]
    }
   ],
   "source": [
    "print(\"Y=\",pr.coef_[1],\"x1 +\",pr.coef_[2],\"x2 +\",pr.coef_[3])"
   ]
  },
  {
   "cell_type": "code",
   "execution_count": null,
   "metadata": {},
   "outputs": [],
   "source": []
  }
 ],
 "metadata": {
  "kernelspec": {
   "display_name": "Python 3",
   "language": "python",
   "name": "python3"
  },
  "language_info": {
   "codemirror_mode": {
    "name": "ipython",
    "version": 3
   },
   "file_extension": ".py",
   "mimetype": "text/x-python",
   "name": "python",
   "nbconvert_exporter": "python",
   "pygments_lexer": "ipython3",
   "version": "3.7.6"
  }
 },
 "nbformat": 4,
 "nbformat_minor": 4
}
