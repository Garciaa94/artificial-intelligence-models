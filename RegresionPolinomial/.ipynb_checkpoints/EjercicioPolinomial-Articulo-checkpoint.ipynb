{
 "cells": [
  {
   "cell_type": "code",
   "execution_count": 1,
   "metadata": {},
   "outputs": [],
   "source": [
    "import numpy as np\n",
    "import pandas as pd\n",
    "from sklearn import datasets, linear_model\n",
    "import matplotlib.pyplot as plt\n",
    "\n",
    "from sklearn.linear_model import LinearRegression \n",
    "from sklearn.model_selection import train_test_split\n",
    "from sklearn.model_selection import cross_val_score"
   ]
  },
  {
   "cell_type": "code",
   "execution_count": 2,
   "metadata": {},
   "outputs": [],
   "source": [
    "boston=pd.read_csv(\"articulos_ml.csv\")\n",
    "#print(boston)"
   ]
  },
  {
   "cell_type": "code",
   "execution_count": 3,
   "metadata": {},
   "outputs": [
    {
     "name": "stdout",
     "output_type": "stream",
     "text": [
      "Index(['Title', 'url', 'Word count', '# of Links', '# of comments',\n",
      "       '# Images video', 'Elapsed days', '# Shares'],\n",
      "      dtype='object')\n"
     ]
    }
   ],
   "source": [
    "print(boston.keys())\n"
   ]
  },
  {
   "cell_type": "code",
   "execution_count": 178,
   "metadata": {},
   "outputs": [
    {
     "data": {
      "text/html": [
       "<div>\n",
       "<style scoped>\n",
       "    .dataframe tbody tr th:only-of-type {\n",
       "        vertical-align: middle;\n",
       "    }\n",
       "\n",
       "    .dataframe tbody tr th {\n",
       "        vertical-align: top;\n",
       "    }\n",
       "\n",
       "    .dataframe thead th {\n",
       "        text-align: right;\n",
       "    }\n",
       "</style>\n",
       "<table border=\"1\" class=\"dataframe\">\n",
       "  <thead>\n",
       "    <tr style=\"text-align: right;\">\n",
       "      <th></th>\n",
       "      <th>Unnamed: 0</th>\n",
       "      <th>SECTOR</th>\n",
       "      <th>ENTIDAD_UM</th>\n",
       "      <th>SEXO</th>\n",
       "      <th>ENTIDAD_RES</th>\n",
       "      <th>TIPO_PACIENTE</th>\n",
       "      <th>INTUBADO</th>\n",
       "      <th>NEUMONIA</th>\n",
       "      <th>EDAD</th>\n",
       "      <th>NACIONALIDAD</th>\n",
       "      <th>...</th>\n",
       "      <th>INMUSUPR</th>\n",
       "      <th>HIPERTENSION</th>\n",
       "      <th>OTRA_CON</th>\n",
       "      <th>CARDIOVASCULAR</th>\n",
       "      <th>OBESIDAD</th>\n",
       "      <th>RENAL_CRONICA</th>\n",
       "      <th>TABAQUISMO</th>\n",
       "      <th>OTRO_CASO</th>\n",
       "      <th>RESULTADO</th>\n",
       "      <th>UCI</th>\n",
       "    </tr>\n",
       "  </thead>\n",
       "  <tbody>\n",
       "    <tr>\n",
       "      <th>count</th>\n",
       "      <td>303461.000000</td>\n",
       "      <td>303461.000000</td>\n",
       "      <td>303461.000000</td>\n",
       "      <td>303461.000000</td>\n",
       "      <td>303461.000000</td>\n",
       "      <td>303461.000000</td>\n",
       "      <td>303461.000000</td>\n",
       "      <td>303461.000000</td>\n",
       "      <td>303461.000000</td>\n",
       "      <td>303461.000000</td>\n",
       "      <td>...</td>\n",
       "      <td>303461.000000</td>\n",
       "      <td>303461.000000</td>\n",
       "      <td>303461.000000</td>\n",
       "      <td>303461.000000</td>\n",
       "      <td>303461.000000</td>\n",
       "      <td>303461.000000</td>\n",
       "      <td>303461.000000</td>\n",
       "      <td>303461.000000</td>\n",
       "      <td>303461.000000</td>\n",
       "      <td>303461.000000</td>\n",
       "    </tr>\n",
       "    <tr>\n",
       "      <th>mean</th>\n",
       "      <td>151730.000000</td>\n",
       "      <td>9.675322</td>\n",
       "      <td>14.891867</td>\n",
       "      <td>1.510586</td>\n",
       "      <td>15.178161</td>\n",
       "      <td>1.232349</td>\n",
       "      <td>74.922778</td>\n",
       "      <td>1.835142</td>\n",
       "      <td>42.606776</td>\n",
       "      <td>1.007115</td>\n",
       "      <td>...</td>\n",
       "      <td>2.352566</td>\n",
       "      <td>2.172965</td>\n",
       "      <td>2.447550</td>\n",
       "      <td>2.319023</td>\n",
       "      <td>2.174424</td>\n",
       "      <td>2.312686</td>\n",
       "      <td>2.262933</td>\n",
       "      <td>32.044886</td>\n",
       "      <td>1.814246</td>\n",
       "      <td>74.921301</td>\n",
       "    </tr>\n",
       "    <tr>\n",
       "      <th>std</th>\n",
       "      <td>87601.789357</td>\n",
       "      <td>7.766512</td>\n",
       "      <td>7.986825</td>\n",
       "      <td>0.499889</td>\n",
       "      <td>7.888795</td>\n",
       "      <td>0.422331</td>\n",
       "      <td>40.146792</td>\n",
       "      <td>0.597460</td>\n",
       "      <td>16.804656</td>\n",
       "      <td>0.084048</td>\n",
       "      <td>...</td>\n",
       "      <td>5.959690</td>\n",
       "      <td>5.723109</td>\n",
       "      <td>6.793264</td>\n",
       "      <td>5.741573</td>\n",
       "      <td>5.722937</td>\n",
       "      <td>5.656328</td>\n",
       "      <td>5.815630</td>\n",
       "      <td>45.256824</td>\n",
       "      <td>0.668555</td>\n",
       "      <td>40.149882</td>\n",
       "    </tr>\n",
       "    <tr>\n",
       "      <th>min</th>\n",
       "      <td>0.000000</td>\n",
       "      <td>1.000000</td>\n",
       "      <td>1.000000</td>\n",
       "      <td>1.000000</td>\n",
       "      <td>1.000000</td>\n",
       "      <td>1.000000</td>\n",
       "      <td>1.000000</td>\n",
       "      <td>1.000000</td>\n",
       "      <td>0.000000</td>\n",
       "      <td>1.000000</td>\n",
       "      <td>...</td>\n",
       "      <td>1.000000</td>\n",
       "      <td>1.000000</td>\n",
       "      <td>1.000000</td>\n",
       "      <td>1.000000</td>\n",
       "      <td>1.000000</td>\n",
       "      <td>1.000000</td>\n",
       "      <td>1.000000</td>\n",
       "      <td>1.000000</td>\n",
       "      <td>1.000000</td>\n",
       "      <td>1.000000</td>\n",
       "    </tr>\n",
       "    <tr>\n",
       "      <th>25%</th>\n",
       "      <td>75865.000000</td>\n",
       "      <td>4.000000</td>\n",
       "      <td>9.000000</td>\n",
       "      <td>1.000000</td>\n",
       "      <td>9.000000</td>\n",
       "      <td>1.000000</td>\n",
       "      <td>97.000000</td>\n",
       "      <td>2.000000</td>\n",
       "      <td>31.000000</td>\n",
       "      <td>1.000000</td>\n",
       "      <td>...</td>\n",
       "      <td>2.000000</td>\n",
       "      <td>2.000000</td>\n",
       "      <td>2.000000</td>\n",
       "      <td>2.000000</td>\n",
       "      <td>2.000000</td>\n",
       "      <td>2.000000</td>\n",
       "      <td>2.000000</td>\n",
       "      <td>1.000000</td>\n",
       "      <td>1.000000</td>\n",
       "      <td>97.000000</td>\n",
       "    </tr>\n",
       "    <tr>\n",
       "      <th>50%</th>\n",
       "      <td>151730.000000</td>\n",
       "      <td>12.000000</td>\n",
       "      <td>14.000000</td>\n",
       "      <td>2.000000</td>\n",
       "      <td>15.000000</td>\n",
       "      <td>1.000000</td>\n",
       "      <td>97.000000</td>\n",
       "      <td>2.000000</td>\n",
       "      <td>41.000000</td>\n",
       "      <td>1.000000</td>\n",
       "      <td>...</td>\n",
       "      <td>2.000000</td>\n",
       "      <td>2.000000</td>\n",
       "      <td>2.000000</td>\n",
       "      <td>2.000000</td>\n",
       "      <td>2.000000</td>\n",
       "      <td>2.000000</td>\n",
       "      <td>2.000000</td>\n",
       "      <td>2.000000</td>\n",
       "      <td>2.000000</td>\n",
       "      <td>97.000000</td>\n",
       "    </tr>\n",
       "    <tr>\n",
       "      <th>75%</th>\n",
       "      <td>227595.000000</td>\n",
       "      <td>12.000000</td>\n",
       "      <td>21.000000</td>\n",
       "      <td>2.000000</td>\n",
       "      <td>21.000000</td>\n",
       "      <td>1.000000</td>\n",
       "      <td>97.000000</td>\n",
       "      <td>2.000000</td>\n",
       "      <td>53.000000</td>\n",
       "      <td>1.000000</td>\n",
       "      <td>...</td>\n",
       "      <td>2.000000</td>\n",
       "      <td>2.000000</td>\n",
       "      <td>2.000000</td>\n",
       "      <td>2.000000</td>\n",
       "      <td>2.000000</td>\n",
       "      <td>2.000000</td>\n",
       "      <td>2.000000</td>\n",
       "      <td>99.000000</td>\n",
       "      <td>2.000000</td>\n",
       "      <td>97.000000</td>\n",
       "    </tr>\n",
       "    <tr>\n",
       "      <th>max</th>\n",
       "      <td>303460.000000</td>\n",
       "      <td>99.000000</td>\n",
       "      <td>32.000000</td>\n",
       "      <td>2.000000</td>\n",
       "      <td>32.000000</td>\n",
       "      <td>2.000000</td>\n",
       "      <td>99.000000</td>\n",
       "      <td>99.000000</td>\n",
       "      <td>120.000000</td>\n",
       "      <td>2.000000</td>\n",
       "      <td>...</td>\n",
       "      <td>98.000000</td>\n",
       "      <td>98.000000</td>\n",
       "      <td>98.000000</td>\n",
       "      <td>98.000000</td>\n",
       "      <td>98.000000</td>\n",
       "      <td>98.000000</td>\n",
       "      <td>98.000000</td>\n",
       "      <td>99.000000</td>\n",
       "      <td>3.000000</td>\n",
       "      <td>99.000000</td>\n",
       "    </tr>\n",
       "  </tbody>\n",
       "</table>\n",
       "<p>8 rows × 23 columns</p>\n",
       "</div>"
      ],
      "text/plain": [
       "          Unnamed: 0         SECTOR     ENTIDAD_UM           SEXO  \\\n",
       "count  303461.000000  303461.000000  303461.000000  303461.000000   \n",
       "mean   151730.000000       9.675322      14.891867       1.510586   \n",
       "std     87601.789357       7.766512       7.986825       0.499889   \n",
       "min         0.000000       1.000000       1.000000       1.000000   \n",
       "25%     75865.000000       4.000000       9.000000       1.000000   \n",
       "50%    151730.000000      12.000000      14.000000       2.000000   \n",
       "75%    227595.000000      12.000000      21.000000       2.000000   \n",
       "max    303460.000000      99.000000      32.000000       2.000000   \n",
       "\n",
       "         ENTIDAD_RES  TIPO_PACIENTE       INTUBADO       NEUMONIA  \\\n",
       "count  303461.000000  303461.000000  303461.000000  303461.000000   \n",
       "mean       15.178161       1.232349      74.922778       1.835142   \n",
       "std         7.888795       0.422331      40.146792       0.597460   \n",
       "min         1.000000       1.000000       1.000000       1.000000   \n",
       "25%         9.000000       1.000000      97.000000       2.000000   \n",
       "50%        15.000000       1.000000      97.000000       2.000000   \n",
       "75%        21.000000       1.000000      97.000000       2.000000   \n",
       "max        32.000000       2.000000      99.000000      99.000000   \n",
       "\n",
       "                EDAD   NACIONALIDAD  ...       INMUSUPR   HIPERTENSION  \\\n",
       "count  303461.000000  303461.000000  ...  303461.000000  303461.000000   \n",
       "mean       42.606776       1.007115  ...       2.352566       2.172965   \n",
       "std        16.804656       0.084048  ...       5.959690       5.723109   \n",
       "min         0.000000       1.000000  ...       1.000000       1.000000   \n",
       "25%        31.000000       1.000000  ...       2.000000       2.000000   \n",
       "50%        41.000000       1.000000  ...       2.000000       2.000000   \n",
       "75%        53.000000       1.000000  ...       2.000000       2.000000   \n",
       "max       120.000000       2.000000  ...      98.000000      98.000000   \n",
       "\n",
       "            OTRA_CON  CARDIOVASCULAR       OBESIDAD  RENAL_CRONICA  \\\n",
       "count  303461.000000   303461.000000  303461.000000  303461.000000   \n",
       "mean        2.447550        2.319023       2.174424       2.312686   \n",
       "std         6.793264        5.741573       5.722937       5.656328   \n",
       "min         1.000000        1.000000       1.000000       1.000000   \n",
       "25%         2.000000        2.000000       2.000000       2.000000   \n",
       "50%         2.000000        2.000000       2.000000       2.000000   \n",
       "75%         2.000000        2.000000       2.000000       2.000000   \n",
       "max        98.000000       98.000000      98.000000      98.000000   \n",
       "\n",
       "          TABAQUISMO      OTRO_CASO      RESULTADO            UCI  \n",
       "count  303461.000000  303461.000000  303461.000000  303461.000000  \n",
       "mean        2.262933      32.044886       1.814246      74.921301  \n",
       "std         5.815630      45.256824       0.668555      40.149882  \n",
       "min         1.000000       1.000000       1.000000       1.000000  \n",
       "25%         2.000000       1.000000       1.000000      97.000000  \n",
       "50%         2.000000       2.000000       2.000000      97.000000  \n",
       "75%         2.000000      99.000000       2.000000      97.000000  \n",
       "max        98.000000      99.000000       3.000000      99.000000  \n",
       "\n",
       "[8 rows x 23 columns]"
      ]
     },
     "execution_count": 178,
     "metadata": {},
     "output_type": "execute_result"
    }
   ],
   "source": [
    "#boston.describe() # columnas para DAtos Estadisticos"
   ]
  },
  {
   "cell_type": "code",
   "execution_count": 196,
   "metadata": {},
   "outputs": [
    {
     "name": "stdout",
     "output_type": "stream",
     "text": [
      "        DIABETES\n",
      "0              2\n",
      "1              2\n",
      "2              2\n",
      "3              2\n",
      "4              1\n",
      "...          ...\n",
      "303456         2\n",
      "303457         2\n",
      "303458         2\n",
      "303459         1\n",
      "303460         2\n",
      "\n",
      "[303461 rows x 1 columns]\n"
     ]
    }
   ],
   "source": [
    "X_polinom=boston[['DIABETES']] #cargamo valor de x1 en data\n",
    "#X_polinom=boston.iloc[:,np.newaxis,3]\n",
    "print(X_polinom)"
   ]
  },
  {
   "cell_type": "code",
   "execution_count": 197,
   "metadata": {},
   "outputs": [
    {
     "name": "stdout",
     "output_type": "stream",
     "text": [
      "0         86\n",
      "1         58\n",
      "2         52\n",
      "3         47\n",
      "4         26\n",
      "          ..\n",
      "303456    38\n",
      "303457    40\n",
      "303458    21\n",
      "303459    53\n",
      "303460    28\n",
      "Name: EDAD, Length: 303461, dtype: int64\n"
     ]
    }
   ],
   "source": [
    "y_polinom=boston.EDAD\n",
    "print(y_polinom)"
   ]
  },
  {
   "cell_type": "code",
   "execution_count": 198,
   "metadata": {},
   "outputs": [
    {
     "data": {
      "text/plain": [
       "<matplotlib.collections.PathCollection at 0x1e4e2214c08>"
      ]
     },
     "execution_count": 198,
     "metadata": {},
     "output_type": "execute_result"
    },
    {
     "data": {
      "image/png": "[encoded data removed]",
      "text/plain": [
       "<Figure size 432x288 with 1 Axes>"
      ]
     },
     "metadata": {
      "needs_background": "light"
     },
     "output_type": "display_data"
    }
   ],
   "source": [
    "plt.scatter(X_polinom,y_polinom)"
   ]
  },
  {
   "cell_type": "code",
   "execution_count": 199,
   "metadata": {},
   "outputs": [],
   "source": [
    "from sklearn.model_selection import train_test_split\n",
    "X_train, X_test, y_train, y_test=train_test_split(X_polinom, y_polinom, test_size=0.2)"
   ]
  },
  {
   "cell_type": "code",
   "execution_count": 200,
   "metadata": {},
   "outputs": [],
   "source": [
    "#definicion del grado del polinomio de grado tallll \n",
    "from sklearn.preprocessing import PolynomialFeatures\n",
    "polinomial_regr = PolynomialFeatures(degree=5)"
   ]
  },
  {
   "cell_type": "code",
   "execution_count": 201,
   "metadata": {},
   "outputs": [],
   "source": [
    "x_train_poli = polinomial_regr.fit_transform(X_train)\n",
    "x_test_poli = polinomial_regr.fit_transform(X_test)"
   ]
  },
  {
   "cell_type": "code",
   "execution_count": 202,
   "metadata": {},
   "outputs": [],
   "source": [
    "pr= linear_model.LinearRegression()"
   ]
  },
  {
   "cell_type": "code",
   "execution_count": 203,
   "metadata": {},
   "outputs": [
    {
     "data": {
      "text/plain": [
       "LinearRegression()"
      ]
     },
     "execution_count": 203,
     "metadata": {},
     "output_type": "execute_result"
    }
   ],
   "source": [
    "#entrenamos el modelo\n",
    "pr.fit(x_train_poli, y_train)"
   ]
  },
  {
   "cell_type": "code",
   "execution_count": 204,
   "metadata": {},
   "outputs": [
    {
     "name": "stdout",
     "output_type": "stream",
     "text": [
      "[40.46715194 40.46715194 40.46715194 ... 40.46715194 40.46715194\n",
      " 40.46715194]\n"
     ]
    }
   ],
   "source": [
    "#hacerprediccion\n",
    "y_pred=pr.predict(x_test_poli)\n",
    "#print(y_test)\n",
    "print(y_pred)"
   ]
  },
  {
   "cell_type": "code",
   "execution_count": 205,
   "metadata": {},
   "outputs": [
    {
     "data": {
      "image/png": "[encoded data removed]",
      "text/plain": [
       "<Figure size 432x288 with 1 Axes>"
      ]
     },
     "metadata": {
      "needs_background": "light"
     },
     "output_type": "display_data"
    }
   ],
   "source": [
    "#dibujamos\n",
    "plt.scatter (X_test, y_test)\n",
    "plt.plot(X_test, y_pred, color ='red')\n",
    "plt.show()"
   ]
  },
  {
   "cell_type": "code",
   "execution_count": 206,
   "metadata": {},
   "outputs": [
    {
     "name": "stdout",
     "output_type": "stream",
     "text": [
      "Valor de la pendiente\n",
      "[  0.           3.48205171  10.44212881  24.64358762 -15.24124595\n",
      "   0.15294582]\n"
     ]
    }
   ],
   "source": [
    "print(\"Valor de la pendiente\")\n",
    "print(pr.coef_)"
   ]
  },
  {
   "cell_type": "code",
   "execution_count": 207,
   "metadata": {},
   "outputs": [
    {
     "name": "stdout",
     "output_type": "stream",
     "text": [
      "Valor de la Interseccion\n",
      "33.55150150564944\n"
     ]
    }
   ],
   "source": [
    "print(\"Valor de la Interseccion\")\n",
    "print(pr.intercept_)"
   ]
  },
  {
   "cell_type": "code",
   "execution_count": 208,
   "metadata": {},
   "outputs": [
    {
     "name": "stdout",
     "output_type": "stream",
     "text": [
      "Valor de la Interseccion\n",
      "0.10844444716508794\n"
     ]
    }
   ],
   "source": [
    "print(\"Valor de la Interseccion\")\n",
    "print(pr.score(x_train_poli,y_train))"
   ]
  },
  {
   "cell_type": "code",
   "execution_count": 192,
   "metadata": {},
   "outputs": [
    {
     "name": "stdout",
     "output_type": "stream",
     "text": [
      "Y= 0.01924465886415686 x1 + -0.000535489418889254 x2 + 4.792365502013762e-06\n"
     ]
    }
   ],
   "source": [
    "print(\"Y=\",pr.coef_[1],\"x1 +\",pr.coef_[2],\"x2 +\",pr.coef_[3])"
   ]
  },
  {
   "cell_type": "code",
   "execution_count": null,
   "metadata": {},
   "outputs": [],
   "source": []
  }
 ],
 "metadata": {
  "kernelspec": {
   "display_name": "Python 3",
   "language": "python",
   "name": "python3"
  },
  "language_info": {
   "codemirror_mode": {
    "name": "ipython",
    "version": 3
   },
   "file_extension": ".py",
   "mimetype": "text/x-python",
   "name": "python",
   "nbconvert_exporter": "python",
   "pygments_lexer": "ipython3",
   "version": "3.7.6"
  }
 },
 "nbformat": 4,
 "nbformat_minor": 4
}
