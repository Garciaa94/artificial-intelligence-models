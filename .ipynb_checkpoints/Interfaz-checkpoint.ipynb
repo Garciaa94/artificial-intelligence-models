{
 "cells": [
  {
   "cell_type": "code",
   "execution_count": 2,
   "metadata": {},
   "outputs": [],
   "source": [
    "from tkinter import *\n",
    "import joblib\n",
    "from sklearn import datasets\n",
    "clf= joblib.load('modelo.pkl')"
   ]
  },
  {
   "cell_type": "code",
   "execution_count": 17,
   "metadata": {},
   "outputs": [],
   "source": [
    "raiz=Tk()\n",
    "raiz.title(\"Practica\")\n",
    "raiz.geometry(\"520x350\") #Configurar tamaño\n",
    "raiz.config(bg=\"AliceBlue\") #Cambiar color de fondo\n",
    "var=StringVar()\n",
    "result=int()\n",
    "\n",
    "miFrame=Frame(raiz,width=500, height=250) #Configurar tamaño\n",
    "miFrame.config(bg=\"AliceBlue\") #Cambiar color de fondo\n",
    "miFrame.pack()\n",
    "\n",
    "miFrame.place(x=60, y=40) #posición \n",
    "\n",
    "nombreLabel=Label(miFrame,text=\"Año de experiencia\",background=\"CadetBlue\")\n",
    "nombreLabel.grid(row=0,column=0)\n",
    "\n",
    "cuadroTexto=Entry(miFrame)\n",
    "cuadroTexto.grid(row=0,column=1)\n",
    "\n",
    "resultado=Label(miFrame,text=\"Total\" , background=\"CadetBlue\")\n",
    "resultado.grid(row=1,column=0)\n",
    "\n",
    "cuadroResultado=Entry(miFrame,textvariable=var)\n",
    "cuadroResultado.grid(row=1,column=1)\n",
    "\n",
    "def cal():\n",
    "           result=clf.predict([[int(cuadroTexto.get())]])\n",
    "           var.set(result)\n",
    "\n",
    "botonCalcular=Button(miFrame,text=\"Calcular\",fg=\"blue\",command=cal, background=\"CadetBlue\")\n",
    "botonCalcular.grid(row=0,column=2)\n",
    "\n",
    "raiz.mainloop()"
   ]
  },
  {
   "cell_type": "code",
   "execution_count": null,
   "metadata": {},
   "outputs": [],
   "source": []
  }
 ],
 "metadata": {
  "kernelspec": {
   "display_name": "Python 3",
   "language": "python",
   "name": "python3"
  },
  "language_info": {
   "codemirror_mode": {
    "name": "ipython",
    "version": 3
   },
   "file_extension": ".py",
   "mimetype": "text/x-python",
   "name": "python",
   "nbconvert_exporter": "python",
   "pygments_lexer": "ipython3",
   "version": "3.7.6"
  }
 },
 "nbformat": 4,
 "nbformat_minor": 4
}
