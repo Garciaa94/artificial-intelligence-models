{
 "cells": [
  {
   "cell_type": "code",
   "execution_count": 1,
   "metadata": {},
   "outputs": [],
   "source": [
    "# Imports necesarios\n",
    "import numpy as np\n",
    "import pandas as pd\n",
    "import seaborn as sb\n",
    "import matplotlib.pyplot as plt\n",
    "from sklearn.model_selection import train_test_split\n",
    "from sklearn import tree\n",
    "from sklearn.tree import DecisionTreeClassifier\n",
    "from sklearn import datasets\n",
    "\n",
    "%matplotlib inline \n",
    "plt.rcParams['figure.figsize'] = (16, 9)\n",
    "plt.style.use('ggplot')\n",
    "from sklearn.metrics import accuracy_score\n",
    "from sklearn.model_selection import KFold\n",
    "from sklearn.model_selection import cross_val_score\n",
    "from IPython.display import Image as PImage\n",
    "from subprocess import check_call\n",
    "from PIL import Image, ImageDraw, ImageFont"
   ]
  },
  {
   "cell_type": "code",
   "execution_count": 2,
   "metadata": {},
   "outputs": [
    {
     "name": "stdout",
     "output_type": "stream",
     "text": [
      "Datos de monitoreo de ruido en India (2011 - 2018)\n",
      "\n",
      "    Station  Year  Month  Day  Night  DayLimit  NightLimit\n",
      "0     BEN01  2011      2   66     56        55          45\n",
      "1     BEN01  2011      3   66     58        55          45\n",
      "2     BEN01  2011      4   66     57        55          45\n",
      "3     BEN01  2011      5   66     56        55          45\n",
      "4     BEN01  2011      6   67     57        55          45\n",
      "..      ...   ...    ...  ...    ...       ...         ...\n",
      "511   DEL01  2012      7   53     51        50          40\n",
      "512   DEL01  2012      8   54     54        50          40\n",
      "513   DEL01  2012      9   52     52        50          40\n",
      "514   DEL01  2012     10   50     48        50          40\n",
      "515   DEL01  2012     11   51     49        50          40\n",
      "\n",
      "[516 rows x 7 columns]\n"
     ]
    }
   ],
   "source": [
    "iris = pd.read_csv(\"station_monthh.csv\")\n",
    "print(\"Datos de monitoreo de ruido en India (2011 - 2018)\")\n",
    "print()\n",
    "print(iris)"
   ]
  },
  {
   "cell_type": "code",
   "execution_count": 3,
   "metadata": {},
   "outputs": [
    {
     "name": "stdout",
     "output_type": "stream",
     "text": [
      "     Day  Night  DayLimit  NightLimit\n",
      "0     66     56        55          45\n",
      "1     66     58        55          45\n",
      "2     66     57        55          45\n",
      "3     66     56        55          45\n",
      "4     67     57        55          45\n",
      "..   ...    ...       ...         ...\n",
      "511   53     51        50          40\n",
      "512   54     54        50          40\n",
      "513   52     52        50          40\n",
      "514   50     48        50          40\n",
      "515   51     49        50          40\n",
      "\n",
      "[516 rows x 4 columns]\n"
     ]
    }
   ],
   "source": [
    "X=iris.iloc[:,3:8]\n",
    "print(X)"
   ]
  },
  {
   "cell_type": "code",
   "execution_count": 4,
   "metadata": {},
   "outputs": [],
   "source": [
    "x_entrenamiento,x_test,y_entrenamiento,y_test=train_test_split(X,iris.Station,test_size=0.2)"
   ]
  },
  {
   "cell_type": "code",
   "execution_count": 5,
   "metadata": {},
   "outputs": [
    {
     "name": "stdout",
     "output_type": "stream",
     "text": [
      "Id de Estado\n"
     ]
    },
    {
     "data": {
      "text/plain": [
       "0      BEN01\n",
       "1      BEN01\n",
       "2      BEN01\n",
       "3      BEN01\n",
       "4      BEN01\n",
       "       ...  \n",
       "511    DEL01\n",
       "512    DEL01\n",
       "513    DEL01\n",
       "514    DEL01\n",
       "515    DEL01\n",
       "Name: Station, Length: 516, dtype: object"
      ]
     },
     "execution_count": 5,
     "metadata": {},
     "output_type": "execute_result"
    }
   ],
   "source": [
    "print(\"Id de Estado\")\n",
    "iris.Station"
   ]
  },
  {
   "cell_type": "code",
   "execution_count": 6,
   "metadata": {},
   "outputs": [],
   "source": [
    "arbol= tree.DecisionTreeClassifier()"
   ]
  },
  {
   "cell_type": "code",
   "execution_count": 7,
   "metadata": {},
   "outputs": [],
   "source": [
    "\n",
    "# Por defecto 5\n",
    "from sklearn.neighbors import KNeighborsClassifier\n",
    "knn = KNeighborsClassifier(n_neighbors=1)"
   ]
  },
  {
   "cell_type": "code",
   "execution_count": 8,
   "metadata": {},
   "outputs": [
    {
     "data": {
      "text/plain": [
       "KNeighborsClassifier(n_neighbors=1)"
      ]
     },
     "execution_count": 8,
     "metadata": {},
     "output_type": "execute_result"
    }
   ],
   "source": [
    "knn.fit(x_entrenamiento,y_entrenamiento)"
   ]
  },
  {
   "cell_type": "code",
   "execution_count": 9,
   "metadata": {},
   "outputs": [
    {
     "data": {
      "text/plain": [
       "0.9029126213592233"
      ]
     },
     "execution_count": 9,
     "metadata": {},
     "output_type": "execute_result"
    }
   ],
   "source": [
    "knn.score(x_entrenamiento,y_entrenamiento)\n",
    "# score del mdelo de entrenamiento"
   ]
  },
  {
   "cell_type": "code",
   "execution_count": 14,
   "metadata": {},
   "outputs": [
    {
     "data": {
      "text/plain": [
       "0.7211538461538461"
      ]
     },
     "execution_count": 14,
     "metadata": {},
     "output_type": "execute_result"
    }
   ],
   "source": [
    "knn.score(x_test,y_test)\n",
    "# score de las prediccion"
   ]
  },
  {
   "cell_type": "code",
   "execution_count": 15,
   "metadata": {},
   "outputs": [],
   "source": [
    "x=[1,2,3,4,5,6,7,8,9,10]\n",
    "y=[100,98,97,97,98,99,98,98,99,97]"
   ]
  },
  {
   "cell_type": "code",
   "execution_count": 32,
   "metadata": {},
   "outputs": [
    {
     "data": {
      "text/plain": [
       "<function matplotlib.pyplot.show(*args, **kw)>"
      ]
     },
     "execution_count": 32,
     "metadata": {},
     "output_type": "execute_result"
    },
    {
     "data": {
      "image/png": "[encoded data removed]",
      "text/plain": [
       "<Figure size 1152x648 with 1 Axes>"
      ]
     },
     "metadata": {},
     "output_type": "display_data"
    }
   ],
   "source": [
    "import matplotlib.pyplot as plt\n",
    "plt.scatter(x,y)\n",
    "plt.plot(x,y,color='red')\n",
    "plt.ylabel('porcentaje')\n",
    "plt.xlabel('vecinos')\n",
    "plt.show"
   ]
  },
  {
   "cell_type": "code",
   "execution_count": null,
   "metadata": {},
   "outputs": [],
   "source": []
  }
 ],
 "metadata": {
  "kernelspec": {
   "display_name": "Python 3",
   "language": "python",
   "name": "python3"
  },
  "language_info": {
   "codemirror_mode": {
    "name": "ipython",
    "version": 3
   },
   "file_extension": ".py",
   "mimetype": "text/x-python",
   "name": "python",
   "nbconvert_exporter": "python",
   "pygments_lexer": "ipython3",
   "version": "3.7.6"
  }
 },
 "nbformat": 4,
 "nbformat_minor": 4
}
